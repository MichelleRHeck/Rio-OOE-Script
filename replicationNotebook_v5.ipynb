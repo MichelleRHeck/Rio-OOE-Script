{
 "cells": [
  {
   "cell_type": "code",
   "execution_count": 17,
   "metadata": {},
   "outputs": [],
   "source": [
    "## READING IN PACKAGES\n",
    "import pandas as pd\n",
    "import pyodbc\n",
    "import adodbapi\n",
    "import inspect \n",
    "import plotly.graph_objects as go\n",
    "import os\n",
    "import numpy as np\n",
    "from datetime import date"
   ]
  },
  {
   "cell_type": "markdown",
   "metadata": {},
   "source": [
    "INPUT VARIABLES IN CODE CHUNK BELOW"
   ]
  },
  {
   "cell_type": "code",
   "execution_count": 18,
   "metadata": {},
   "outputs": [],
   "source": [
    "### --- DEFINE VARIABLES ----\n",
    "\n",
    "## Block Models\n",
    "\n",
    "## EBS Block Model (EBS)\n",
    "EBSBlockModel =  \"waebs_DepA_20220928_002\" \n",
    "\n",
    "## Regularised Block Model (RBM)\n",
    "RegBlockModel =  \"waapr2_DepA_20220928_021\"\n",
    "\n",
    "## ORR/ORS Model - leave blank (\"\") if no ORR Model\n",
    "ORR_ORSModel =  \"\" \n",
    "\n",
    "## ModFactor Table - only used if OOR_ORSModel = \"\"\n",
    "MF_table = [['hg', 's_l_t + s_f_t',1],\n",
    "            ['hga', 's_l_t + s_f_t',1],\n",
    "            ['lga', 's_l_t + s_f_t',0],\n",
    "            ['lgs', 's_l_t + s_f_t',0],\n",
    "            #['lgo', 's_l_t + s_f_t',0],\n",
    "            ['w', 's_l_t + s_f_t',0] \n",
    "            ]\n",
    "\n",
    "ModFactor = pd.DataFrame(MF_table, columns = ['Field', 'plant', 'Ratio'])\n",
    "\n",
    "\n",
    "## Other variable inputs\n",
    "\n",
    "## Resource Cutoff\n",
    "RCut =  't_fe>50'#\"dest_tag in ('hg','bpo')\" \n",
    "RCutGroup = \"dest_tag\"\n",
    " \n",
    "\n",
    "## Mining cutoff (FCOG)\n",
    "MCut  = \"t_fe>=58\"\n",
    "MCutGroup = \"mp_dest\"\n",
    "\n",
    "## LOM Schedule Cutoff (VCOG)\n",
    "SCut = \"t_fe>=58\"\n",
    "SCutGroup = \"mp_dest\"\n",
    "\n",
    "## Topo Filter\n",
    "topo = \"topo>202208\" \n",
    "\n",
    "## filled Filter\n",
    "filled = \"\"\n",
    "\n",
    "## Mined out topo \n",
    "topoMined = \"topo>99998\"\n",
    "\n",
    "## topo check\n",
    "topoCheck = \"Not identical\"\n",
    "\n",
    "## inut\n",
    "inut = 'mp_dest'\n",
    "\n",
    "## mp_parcel\n",
    "mp_parcel = 't_fe>50' \n",
    "\n",
    "#Adjustments for Waterfall Table (default 0)\n",
    "adjustment_1 = 0\n",
    "adjustment_2 = 0\n",
    "\n",
    "adjustment_3 = 0"
   ]
  },
  {
   "cell_type": "code",
   "execution_count": 19,
   "metadata": {},
   "outputs": [],
   "source": [
    "## -------------------------------------------------------------------Create Connection to Database--------------------------------------------------------\n",
    "def databaseConnection(provider, dataSource, dataBase, connection):\n",
    "    \"\"\" \n",
    "     returns adodbapi.adodbapi.Connection type\n",
    "\n",
    "    :param provider: database provider\n",
    "    :param dataSource: Data Source/Server\n",
    "    :param dataBase: Database\n",
    "    :param connection: Trusted Connection type (Yes/no)\n",
    "    \"\"\"\n",
    "    print(\"Creating database connection\")\n",
    "    connection  = adodbapi.connect(f\"\"\"\n",
    "                                       PROVIDER={provider};\n",
    "                                       Data Source={dataSource};\n",
    "                                       Database={dataBase};\n",
    "                                       trusted_connection={connection};\n",
    "                                    \"\"\")\n",
    "    print(\"Connection Successfull\")\n",
    "    return connection\n",
    "\n",
    "## -------------------------------------------------------------------Check Topo Query--------------------------------------------------------\n",
    "\n",
    "def checkTopo(EBS, RBM, connection):\n",
    "    \"\"\" \n",
    "     checks the topo of EBS and RBM\n",
    "\n",
    "    :param EBS: EBS Block Model\n",
    "    :param RBM: Regularised Block Model\n",
    "    \"\"\"\n",
    "    ## Query for selecting data from EBS table\n",
    "       \n",
    "    ebsQuery = f\"\"\"\n",
    "                SELECT max(topo) from {EBS}\n",
    "                WHERE topo != 999999\n",
    "                \"\"\"\n",
    "\n",
    "    print(f\"Running query: {ebsQuery} \")\n",
    "    \n",
    "    ebsData = pd.read_sql(ebsQuery,connection)\n",
    "\n",
    "    if not ebsData.empty:\n",
    "        topoEbs = ebsData.iloc[0][0]\n",
    "    else:\n",
    "        topoEbs = False\n",
    "\n",
    "    ## -------------------------------------------------------------------\n",
    "    \n",
    "     ## Query for selecting data from RBM table\n",
    "\n",
    "    \n",
    "    rbmQuery = f\"\"\"\n",
    "                SELECT max(topo) from {RBM}\n",
    "                WHERE topo != 999999\n",
    "                \"\"\"\n",
    "    print(f\"Running query: {rbmQuery} \")\n",
    "\n",
    "    rbmData = pd.read_sql(rbmQuery,connection)\n",
    "\n",
    "    if not rbmData.empty:\n",
    "            topoRbm = rbmData.iloc[0][0]\n",
    "    else:\n",
    "        topoRbm = False       \n",
    "    \n",
    "    return topoEbs, topoRbm\n",
    "\n",
    "## -------------------------------------------------------------------Variable check--------------------------------------------------------\n",
    "\n",
    "def variableChecks(RCut,\n",
    "                   MCut,\n",
    "                   EBSBlockModel,\n",
    "                   RegBlockModel,\n",
    "                   ORR_ORSModel,\n",
    "                   topo,\n",
    "                   filled,\n",
    "                   topoMined\n",
    "                   ):\n",
    "    \"\"\"\n",
    "    Function to check variables for content\n",
    "    \"\"\"\n",
    "\n",
    "    ## Check RCut\n",
    "    if RCut == \"\":\n",
    "        RCut = \"reportable in ('resource', 'to_reserve')\"\n",
    "    else:\n",
    "        RCut = f\"{RCut} and reportable in ('resource', 'to_reserve')\"\n",
    "\n",
    "    ## Check MCut\n",
    "    if MCut == \"\":\n",
    "        RCut =  \"reportable in ('resource', 'to_reserve')\" ## VBA has this as RCut even though we are check MCut variable - not sure if mistake - follow up with Mike\n",
    "    else:\n",
    "        MCut = f\"{MCut} and reportable in ('resource', 'to_reserve')\"\n",
    "\n",
    "    ## Check EBS\n",
    "    if EBSBlockModel == \"\":\n",
    "        print(f\"Please check the input for EBSBlockModel, it is currently empty\")\n",
    "        #raise ValueError(\"Invalid input for EBSBlockModel\") ## not going to raise error until main\n",
    "    \n",
    "    ## Check RBModel\n",
    "    if RegBlockModel == \"\":\n",
    "        print(\"Error: Sublock model input not recorded\")\n",
    "        raise ValueError(\"Invalid input for RegBlockModel\")\n",
    "\n",
    "   \n",
    "    #if ORR_ORSModel == \"\":\n",
    "       #raise ValueError(\"Invalid input for ORR_ORSModel\")\n",
    "\n",
    "    ## Check top0\n",
    "    if topo == \"\":\n",
    "        topo = \"topo > 0\"\n",
    "    \n",
    "    ## Check filled\n",
    "    if filled == \"\":\n",
    "        filled = \"filled = 999999\"\n",
    "    \n",
    "    ## Check topomined\n",
    "    if topoMined == \"\":\n",
    "        topoMined = \"topo = 999999\"\n",
    "\n",
    "    \n",
    "    ## If passes all checks then return True\n",
    "    return RCut, MCut, EBSBlockModel, RegBlockModel, ORR_ORSModel, topo, filled, topoMined, True\n",
    "    \n",
    "## -------------------------------------------------------------------Query function--------------------------------------------------------\n",
    "\n",
    "def queryFunction(connection,\n",
    "                  step,\n",
    "                  query):\n",
    "    \n",
    "    # query = f\"\"\"\n",
    "    #          SELECT {target}, sum(t_t)\n",
    "    #          FROM {EBS}\n",
    "    #          WHERE fe_bin NOT IN('00.0','null')\n",
    "    #          AND {topo}\n",
    "    #          AND {filled}\n",
    "    #          {additional}\n",
    "    #          GROUP BY {target}\n",
    "    #          \"\"\"\n",
    "    print(\"\\n\" * 3)\n",
    "    print(\"*\" * 50)\n",
    "    print(f\"\"\"Running {step} query:\"\"\")\n",
    "    print(inspect.cleandoc(query))\n",
    "    print(\"*\" * 50)\n",
    "\n",
    "    result = pd.read_sql(query, connection)\n",
    "\n",
    "    \n",
    "    print(f\"{step} query complete\")\n",
    "\n",
    "    if result.empty:\n",
    "        print(f\"{step} query returned an empty dataset, please check variable inputs\")\n",
    "    else:\n",
    "        print(f\"{step} query returned a non-empty dataset, program will continue\")\n",
    "    return result \n",
    "\n",
    "## -------------------------------------------------------------------finding the lease names and separating exploration lease function--------------------------------------------------------\n",
    "def findLeaseName(leaseNamesTable): ## are we just looking for\n",
    "    \"\"\"\n",
    "    Finding the lease names and separating exploration lease.\n",
    "    \"\"\"\n",
    "    ## find records in leaseNamesTable where the record DOES NOT start with \"m\"\n",
    "    explorationLeases = leaseNamesTable[~leaseNamesTable[\"lease_name\"].str.startswith(\"m\",\"a\")][\"lease_name\"].reset_index(drop = True)\n",
    "\n",
    "    explorationLeasesString = \"\"\n",
    "    for i in range(len(explorationLeases)):\n",
    "        if i == 0:\n",
    "            explorationLeasesString = f\"'{explorationLeases[i]}'\"\n",
    "        else:\n",
    "            explorationLeasesString += f\", '{explorationLeases[i]}'\"\n",
    "    \n",
    "    if explorationLeasesString != \"\":\n",
    "        explorationLeasesString = f\"AND lease_name NOT IN ({explorationLeasesString})\"\n",
    "\n",
    "    return explorationLeasesString\n"
   ]
  },
  {
   "cell_type": "code",
   "execution_count": 20,
   "metadata": {},
   "outputs": [
    {
     "name": "stdout",
     "output_type": "stream",
     "text": [
      "Creating database connection\n",
      "Connection Successfull\n",
      "Running query: \n",
      "                SELECT max(topo) from waebs_DepA_20220928_002\n",
      "                WHERE topo != 999999\n",
      "                 \n"
     ]
    },
    {
     "name": "stderr",
     "output_type": "stream",
     "text": [
      "C:\\Users\\mike.heck\\AppData\\Local\\Temp\\ipykernel_25692\\3156076022.py:39: UserWarning:\n",
      "\n",
      "pandas only supports SQLAlchemy connectable (engine/connection) or database string URI or sqlite3 DBAPI2 connection. Other DBAPI2 objects are not tested. Please consider using SQLAlchemy.\n",
      "\n"
     ]
    },
    {
     "name": "stdout",
     "output_type": "stream",
     "text": [
      "Running query: \n",
      "                SELECT max(topo) from waapr2_DepA_20220928_021\n",
      "                WHERE topo != 999999\n",
      "                 \n"
     ]
    },
    {
     "name": "stderr",
     "output_type": "stream",
     "text": [
      "C:\\Users\\mike.heck\\AppData\\Local\\Temp\\ipykernel_25692\\3156076022.py:57: UserWarning:\n",
      "\n",
      "pandas only supports SQLAlchemy connectable (engine/connection) or database string URI or sqlite3 DBAPI2 connection. Other DBAPI2 objects are not tested. Please consider using SQLAlchemy.\n",
      "\n"
     ]
    },
    {
     "name": "stdout",
     "output_type": "stream",
     "text": [
      "\n",
      "\n",
      "\n",
      "\n",
      "**************************************************\n",
      "Running Baseline query:\n",
      "SELECT mineralisation, sum(t_t)\n",
      "FROM waebs_DepA_20220928_002\n",
      "WHERE fe_bin NOT IN('00.0','null')\n",
      "AND topo>202208\n",
      "AND filled = 999999\n",
      "GROUP BY mineralisation \n",
      "**************************************************\n"
     ]
    },
    {
     "name": "stderr",
     "output_type": "stream",
     "text": [
      "C:\\Users\\mike.heck\\AppData\\Local\\Temp\\ipykernel_25692\\3156076022.py:144: UserWarning:\n",
      "\n",
      "pandas only supports SQLAlchemy connectable (engine/connection) or database string URI or sqlite3 DBAPI2 connection. Other DBAPI2 objects are not tested. Please consider using SQLAlchemy.\n",
      "\n"
     ]
    },
    {
     "name": "stdout",
     "output_type": "stream",
     "text": [
      "Baseline query complete\n",
      "Baseline query returned a non-empty dataset, program will continue\n",
      "\n",
      "\n",
      "\n",
      "\n",
      "**************************************************\n",
      "Running Lease Loss query:\n",
      "SELECT lease_name, sum(t_t)\n",
      "FROM waebs_DepA_20220928_002\n",
      "WHERE fe_bin NOT IN('00.0','null')\n",
      "AND topo>202208\n",
      "AND filled = 999999\n",
      "AND lease Not in ('null')\n",
      "GROUP BY lease_name \n",
      "**************************************************\n"
     ]
    },
    {
     "name": "stderr",
     "output_type": "stream",
     "text": [
      "C:\\Users\\mike.heck\\AppData\\Local\\Temp\\ipykernel_25692\\3156076022.py:144: UserWarning:\n",
      "\n",
      "pandas only supports SQLAlchemy connectable (engine/connection) or database string URI or sqlite3 DBAPI2 connection. Other DBAPI2 objects are not tested. Please consider using SQLAlchemy.\n",
      "\n"
     ]
    },
    {
     "name": "stdout",
     "output_type": "stream",
     "text": [
      "Lease Loss query complete\n",
      "Lease Loss query returned a non-empty dataset, program will continue\n",
      "\n",
      "\n",
      "\n",
      "\n",
      "**************************************************\n",
      "Running Exrso loss query:\n",
      "SELECT exrso_type, sum(t_t)\n",
      "FROM waebs_DepA_20220928_002\n",
      "WHERE fe_bin NOT IN('00.0','null')\n",
      "AND topo>202208\n",
      "AND filled = 999999\n",
      "AND lease Not in ('null')\n",
      "AND exrso = 1\n",
      "GROUP BY exrso_type \n",
      "**************************************************\n"
     ]
    },
    {
     "name": "stderr",
     "output_type": "stream",
     "text": [
      "C:\\Users\\mike.heck\\AppData\\Local\\Temp\\ipykernel_25692\\3156076022.py:144: UserWarning:\n",
      "\n",
      "pandas only supports SQLAlchemy connectable (engine/connection) or database string URI or sqlite3 DBAPI2 connection. Other DBAPI2 objects are not tested. Please consider using SQLAlchemy.\n",
      "\n"
     ]
    },
    {
     "name": "stdout",
     "output_type": "stream",
     "text": [
      "Exrso loss query complete\n",
      "Exrso loss query returned a non-empty dataset, program will continue\n",
      "\n",
      "\n",
      "\n",
      "\n",
      "**************************************************\n",
      "Running Unclassified loss query:\n",
      "SELECT res_class, sum(t_t)\n",
      "FROM waebs_DepA_20220928_002\n",
      "WHERE fe_bin NOT IN('00.0','null')\n",
      "AND topo>202208\n",
      "AND filled = 999999\n",
      "AND lease Not in ('null')\n",
      "AND exrso = 0\n",
      "AND res_class  in ('measured', 'indicated', 'inferred') \n",
      "GROUP BY res_class \n",
      "**************************************************\n"
     ]
    },
    {
     "name": "stderr",
     "output_type": "stream",
     "text": [
      "C:\\Users\\mike.heck\\AppData\\Local\\Temp\\ipykernel_25692\\3156076022.py:144: UserWarning:\n",
      "\n",
      "pandas only supports SQLAlchemy connectable (engine/connection) or database string URI or sqlite3 DBAPI2 connection. Other DBAPI2 objects are not tested. Please consider using SQLAlchemy.\n",
      "\n"
     ]
    },
    {
     "name": "stdout",
     "output_type": "stream",
     "text": [
      "Unclassified loss query complete\n",
      "Unclassified loss query returned a non-empty dataset, program will continue\n",
      "\n",
      "\n",
      "\n",
      "\n",
      "**************************************************\n",
      "Running Resource cutoff loss query:\n",
      "SELECT dest_tag, sum(t_t)\n",
      "FROM waebs_DepA_20220928_002\n",
      "WHERE fe_bin NOT IN('00.0','null')\n",
      "AND topo>202208\n",
      "AND filled = 999999\n",
      "AND lease Not in ('null')\n",
      "AND exrso = 0\n",
      "AND res_class  in ('measured', 'indicated', 'inferred') \n",
      "AND t_fe>50 and reportable in ('resource', 'to_reserve')\n",
      "GROUP BY dest_tag \n",
      "**************************************************\n"
     ]
    },
    {
     "name": "stderr",
     "output_type": "stream",
     "text": [
      "C:\\Users\\mike.heck\\AppData\\Local\\Temp\\ipykernel_25692\\3156076022.py:144: UserWarning:\n",
      "\n",
      "pandas only supports SQLAlchemy connectable (engine/connection) or database string URI or sqlite3 DBAPI2 connection. Other DBAPI2 objects are not tested. Please consider using SQLAlchemy.\n",
      "\n"
     ]
    },
    {
     "name": "stdout",
     "output_type": "stream",
     "text": [
      "Resource cutoff loss query complete\n",
      "Resource cutoff loss query returned a non-empty dataset, program will continue\n",
      "\n",
      "\n",
      "\n",
      "\n",
      "**************************************************\n",
      "Running Mining cutoff query:\n",
      "SELECT mp_dest, sum(t_t)\n",
      "FROM waebs_DepA_20220928_002\n",
      "WHERE fe_bin NOT IN('00.0','null')\n",
      "AND topo>202208\n",
      "AND filled = 999999\n",
      "AND lease_name IS NOT NULL\n",
      "AND exrso = 0\n",
      "AND res_class  in ('measured', 'indicated', 'inferred') \n",
      "AND t_fe>=58 and reportable in ('resource', 'to_reserve')\n",
      "GROUP BY mp_dest \n",
      "**************************************************\n"
     ]
    },
    {
     "name": "stderr",
     "output_type": "stream",
     "text": [
      "C:\\Users\\mike.heck\\AppData\\Local\\Temp\\ipykernel_25692\\3156076022.py:144: UserWarning:\n",
      "\n",
      "pandas only supports SQLAlchemy connectable (engine/connection) or database string URI or sqlite3 DBAPI2 connection. Other DBAPI2 objects are not tested. Please consider using SQLAlchemy.\n",
      "\n"
     ]
    },
    {
     "name": "stdout",
     "output_type": "stream",
     "text": [
      "Mining cutoff query complete\n",
      "Mining cutoff query returned a non-empty dataset, program will continue\n",
      "\n",
      "\n",
      "\n",
      "\n",
      "**************************************************\n",
      "Running regularisation cutoff query:\n",
      "SELECT mp_dest, sum(t_t)\n",
      "FROM waapr2_DepA_20220928_021\n",
      "WHERE fe_bin NOT IN('00.0','null')\n",
      "AND topo>202208\n",
      "AND filled = 999999\n",
      "AND lease_name IS NOT NULL\n",
      "AND exrso = 0\n",
      "AND res_class  in ('measured', 'indicated', 'inferred') \n",
      "AND t_fe>=58 and reportable in ('resource', 'to_reserve')\n",
      "GROUP BY mp_dest \n",
      "**************************************************\n"
     ]
    },
    {
     "name": "stderr",
     "output_type": "stream",
     "text": [
      "C:\\Users\\mike.heck\\AppData\\Local\\Temp\\ipykernel_25692\\3156076022.py:144: UserWarning:\n",
      "\n",
      "pandas only supports SQLAlchemy connectable (engine/connection) or database string URI or sqlite3 DBAPI2 connection. Other DBAPI2 objects are not tested. Please consider using SQLAlchemy.\n",
      "\n"
     ]
    },
    {
     "name": "stdout",
     "output_type": "stream",
     "text": [
      "regularisation cutoff query complete\n",
      "regularisation cutoff query returned a non-empty dataset, program will continue\n",
      "\n",
      "\n",
      "\n",
      "\n",
      "**************************************************\n",
      "Running Optimisation and Pit query:\n",
      "SELECT mp_dest, sum(t_t)\n",
      "FROM waapr2_DepA_20220928_021\n",
      "WHERE fe_bin NOT IN ('00.0','null')\n",
      "AND topo>202208\n",
      "AND filled = 999999\n",
      "AND lease_name IS NOT NULL\n",
      "AND exrso = 0\n",
      "AND res_class  in ('measured', 'indicated', 'inferred') \n",
      "AND t_fe>=58 and reportable in ('resource', 'to_reserve')\n",
      "AND pit IN ('in')\n",
      "GROUP BY mp_dest \n",
      "**************************************************\n"
     ]
    },
    {
     "name": "stderr",
     "output_type": "stream",
     "text": [
      "C:\\Users\\mike.heck\\AppData\\Local\\Temp\\ipykernel_25692\\3156076022.py:144: UserWarning:\n",
      "\n",
      "pandas only supports SQLAlchemy connectable (engine/connection) or database string URI or sqlite3 DBAPI2 connection. Other DBAPI2 objects are not tested. Please consider using SQLAlchemy.\n",
      "\n"
     ]
    },
    {
     "name": "stdout",
     "output_type": "stream",
     "text": [
      "Optimisation and Pit query complete\n",
      "Optimisation and Pit query returned a non-empty dataset, program will continue\n",
      "\n",
      "\n",
      "\n",
      "\n",
      "**************************************************\n",
      "Running Confidence query:\n",
      "SELECT mp_dest, sum(t_t)\n",
      "FROM waapr2_DepA_20220928_021\n",
      "WHERE \n",
      "fe_bin NOT IN('00.0','null')\n",
      "AND topo>202208\n",
      "AND filled = 999999\n",
      "AND lease NOT IN ('null')\n",
      "AND exrso = 0\n",
      "AND res_class  in ('measured', 'indicated') \n",
      "AND t_fe>=58 and reportable in ('resource', 'to_reserve')\n",
      "AND pit IN ('in')\n",
      "GROUP BY mp_dest \n",
      "**************************************************\n"
     ]
    },
    {
     "name": "stderr",
     "output_type": "stream",
     "text": [
      "C:\\Users\\mike.heck\\AppData\\Local\\Temp\\ipykernel_25692\\3156076022.py:144: UserWarning:\n",
      "\n",
      "pandas only supports SQLAlchemy connectable (engine/connection) or database string URI or sqlite3 DBAPI2 connection. Other DBAPI2 objects are not tested. Please consider using SQLAlchemy.\n",
      "\n"
     ]
    },
    {
     "name": "stdout",
     "output_type": "stream",
     "text": [
      "Confidence query complete\n",
      "Confidence query returned a non-empty dataset, program will continue\n",
      "\n",
      "\n",
      "\n",
      "\n",
      "**************************************************\n",
      "Running Loss for exploration and other lease query:\n",
      "SELECT mp_dest, sum(t_t)\n",
      "FROM waapr2_DepA_20220928_021\n",
      "WHERE t_fe>50\n",
      "AND topo>202208\n",
      "AND filled = 999999\n",
      "AND lease NOT IN ('null')\n",
      "AND exrso = 0\n",
      "AND t_fe>=58 and reportable in ('resource', 'to_reserve')\n",
      "AND pit IN ('in')\n",
      "AND res_class  in ('measured', 'indicated')\n",
      "AND lease_name NOT IN ('aml70/00248_sec_071', 'aml70/00248_sec_072', 'aml70/00248_sec_077', 'notlive')\n",
      "GROUP BY mp_dest \n",
      "**************************************************\n"
     ]
    },
    {
     "name": "stderr",
     "output_type": "stream",
     "text": [
      "C:\\Users\\mike.heck\\AppData\\Local\\Temp\\ipykernel_25692\\3156076022.py:144: UserWarning:\n",
      "\n",
      "pandas only supports SQLAlchemy connectable (engine/connection) or database string URI or sqlite3 DBAPI2 connection. Other DBAPI2 objects are not tested. Please consider using SQLAlchemy.\n",
      "\n"
     ]
    },
    {
     "name": "stdout",
     "output_type": "stream",
     "text": [
      "Loss for exploration and other lease query complete\n",
      "Loss for exploration and other lease query returned a non-empty dataset, program will continue\n",
      "\n",
      "\n",
      "\n",
      "\n",
      "**************************************************\n",
      "Running scheduling inventory - addition of other dest tag query:\n",
      "SELECT mp_dest, sum(t_t)\n",
      "FROM waapr2_DepA_20220928_021\n",
      "WHERE t_fe>50\n",
      "AND topo>202208\n",
      "AND filled = 999999\n",
      "AND lease NOT IN ('null')\n",
      "AND exrso = 0\n",
      "AND t_fe>=58\n",
      "AND pit IN ('in')\n",
      "AND res_class  in ('measured', 'indicated')\n",
      "AND lease_name NOT IN ('aml70/00248_sec_071', 'aml70/00248_sec_072', 'aml70/00248_sec_077', 'notlive')\n",
      "GROUP BY mp_dest \n",
      "**************************************************\n"
     ]
    },
    {
     "name": "stderr",
     "output_type": "stream",
     "text": [
      "C:\\Users\\mike.heck\\AppData\\Local\\Temp\\ipykernel_25692\\3156076022.py:144: UserWarning:\n",
      "\n",
      "pandas only supports SQLAlchemy connectable (engine/connection) or database string URI or sqlite3 DBAPI2 connection. Other DBAPI2 objects are not tested. Please consider using SQLAlchemy.\n",
      "\n"
     ]
    },
    {
     "name": "stdout",
     "output_type": "stream",
     "text": [
      "scheduling inventory - addition of other dest tag query complete\n",
      "scheduling inventory - addition of other dest tag query returned a non-empty dataset, program will continue\n",
      "\n",
      "\n",
      "\n",
      "\n",
      "**************************************************\n",
      "Running mined out loss query:\n",
      "SELECT res_class, sum(t_t)\n",
      "FROM waapr2_DepA_20220928_021\n",
      "WHERE t_fe>50\n",
      "AND topo>202208\n",
      "AND filled = 999999\n",
      "AND lease NOT IN ('null')\n",
      "AND exrso = 0\n",
      "AND t_fe>=58\n",
      "AND pit IN ('in')\n",
      "AND res_class  in ('measured', 'indicated')\n",
      "AND lease_name NOT IN ('aml70/00248_sec_071', 'aml70/00248_sec_072', 'aml70/00248_sec_077', 'notlive')\n",
      "AND topo>99998\n",
      "GROUP BY res_class\n",
      "**************************************************\n"
     ]
    },
    {
     "name": "stderr",
     "output_type": "stream",
     "text": [
      "C:\\Users\\mike.heck\\AppData\\Local\\Temp\\ipykernel_25692\\3156076022.py:144: UserWarning:\n",
      "\n",
      "pandas only supports SQLAlchemy connectable (engine/connection) or database string URI or sqlite3 DBAPI2 connection. Other DBAPI2 objects are not tested. Please consider using SQLAlchemy.\n",
      "\n"
     ]
    },
    {
     "name": "stdout",
     "output_type": "stream",
     "text": [
      "mined out loss query complete\n",
      "mined out loss query returned a non-empty dataset, program will continue\n",
      "\n",
      "\n",
      "\n",
      "\n",
      "**************************************************\n",
      "Running ApprovedPit query:\n",
      "SELECT res_class, sum(t_t)\n",
      "FROM  waapr2_DepA_20220928_021\n",
      "WHERE t_fe>50\n",
      "AND topo>202208\n",
      "AND filled = 999999\n",
      "AND lease Not in ('null')\n",
      "AND exrso = 0\n",
      "AND t_fe>=58\n",
      "AND pit IN ('in')\n",
      "AND res_class in ('measured', 'indicated')AND lease_name NOT IN ('aml70/00248_sec_071', 'aml70/00248_sec_072', 'aml70/00248_sec_077', 'notlive')\n",
      "AND topo>99998\n",
      "AND approved_pit = 1\n",
      "GROUP BY res_class \n",
      "**************************************************\n"
     ]
    },
    {
     "name": "stderr",
     "output_type": "stream",
     "text": [
      "C:\\Users\\mike.heck\\AppData\\Local\\Temp\\ipykernel_25692\\3156076022.py:144: UserWarning:\n",
      "\n",
      "pandas only supports SQLAlchemy connectable (engine/connection) or database string URI or sqlite3 DBAPI2 connection. Other DBAPI2 objects are not tested. Please consider using SQLAlchemy.\n",
      "\n"
     ]
    },
    {
     "name": "stdout",
     "output_type": "stream",
     "text": [
      "ApprovedPit query complete\n",
      "ApprovedPit query returned a non-empty dataset, program will continue\n",
      "\n",
      "\n",
      "\n",
      "\n",
      "**************************************************\n",
      "Running ScheduleAndPlantLoss query:\n",
      "SELECT res_class, sum(t_t), sum(s_l_t + s_f_t) \n",
      "FROM waapr2_DepA_20220928_021\n",
      "WHERE t_fe>50\n",
      "AND topo>202208\n",
      "AND lease Not in ('null')\n",
      "AND exrso = 0\n",
      "AND t_fe>=58\n",
      "AND pit IN ('in')\n",
      "AND res_class in ('measured', 'indicated')AND lease_name NOT IN ('aml70/00248_sec_071', 'aml70/00248_sec_072', 'aml70/00248_sec_077', 'notlive')\n",
      "AND topo>99998\n",
      "AND approved_pit = 1\n",
      "AND filled = 999999\n",
      "AND mp_dest IN ('hg', 'hga')  \n",
      "GROUP BY res_class \n",
      "**************************************************\n"
     ]
    },
    {
     "name": "stderr",
     "output_type": "stream",
     "text": [
      "C:\\Users\\mike.heck\\AppData\\Local\\Temp\\ipykernel_25692\\3156076022.py:144: UserWarning:\n",
      "\n",
      "pandas only supports SQLAlchemy connectable (engine/connection) or database string URI or sqlite3 DBAPI2 connection. Other DBAPI2 objects are not tested. Please consider using SQLAlchemy.\n",
      "\n"
     ]
    },
    {
     "name": "stdout",
     "output_type": "stream",
     "text": [
      "ScheduleAndPlantLoss query complete\n",
      "ScheduleAndPlantLoss query returned a non-empty dataset, program will continue\n",
      "\n",
      "\n",
      "\n",
      "\n",
      "**************************************************\n",
      "Running JorcClass query:\n",
      "SELECT res_class, sum(s_l_t + s_f_t)\n",
      "FROM waapr2_DepA_20220928_021\n",
      "WHERE t_fe>50\n",
      "AND topo>202208\n",
      "AND  filled = 999999\n",
      "AND lease Not in ('null')\n",
      "AND exrso = 0\n",
      "AND t_fe>=58\n",
      "AND pit IN ('in')\n",
      "AND res_class in ('measured', 'indicated')AND lease_name NOT IN ('aml70/00248_sec_071', 'aml70/00248_sec_072', 'aml70/00248_sec_077', 'notlive')\n",
      "AND topo>99998\n",
      "AND approved_pit = 1\n",
      "AND mp_dest IN ('hg', 'hga')\n",
      "AND rsv_class_jorc IN('proved', 'probable')\n",
      "GROUP BY res_class \n",
      "**************************************************\n"
     ]
    },
    {
     "name": "stderr",
     "output_type": "stream",
     "text": [
      "C:\\Users\\mike.heck\\AppData\\Local\\Temp\\ipykernel_25692\\3156076022.py:144: UserWarning:\n",
      "\n",
      "pandas only supports SQLAlchemy connectable (engine/connection) or database string URI or sqlite3 DBAPI2 connection. Other DBAPI2 objects are not tested. Please consider using SQLAlchemy.\n",
      "\n"
     ]
    },
    {
     "name": "stdout",
     "output_type": "stream",
     "text": [
      "JorcClass query complete\n",
      "JorcClass query returned a non-empty dataset, program will continue\n"
     ]
    }
   ],
   "source": [
    "def main(EBSBlockModel,\n",
    "         RegBlockModel,\n",
    "         ORR_ORSModel,\n",
    "         RCut,\n",
    "         RCutGroup,\n",
    "         MCut,\n",
    "         MCutGroup,\n",
    "         SCut,\n",
    "         SCutGroup,\n",
    "         topo,\n",
    "         filled,\n",
    "         topoMined,\n",
    "         topoCheck,\n",
    "         ModFactor):\n",
    "         \n",
    "    ## check variable inputs\n",
    "    try:\n",
    "        RCut, MCut, EBSBlockModel, RegBlockModel, ORR_ORSModel, topo, filled, topoMined, success = variableChecks(RCut = RCut,\n",
    "                                                                                                                  MCut = MCut,\n",
    "                                                                                                                  EBSBlockModel = EBSBlockModel ,\n",
    "                                                                                                                  RegBlockModel = RegBlockModel,\n",
    "                                                                                                                  ORR_ORSModel = ORR_ORSModel,\n",
    "                                                                                                                  topo = topo,\n",
    "                                                                                                                  topoMined = topoMined,\n",
    "                                                                                                                  filled = filled)\n",
    "    except:\n",
    "        ValueError\n",
    "        print(\"Program has stopped due to incomplete variable inputs\")\n",
    "        return None\n",
    "    \n",
    "\n",
    "        \n",
    "    ## create database connection\n",
    "    conn = databaseConnection(provider = \"SQLOLEDB\",\n",
    "                              dataSource = \"mpasdb\",\n",
    "                              dataBase = \"MPAS_LOAD\",\n",
    "                              connection = \"yes\")\n",
    "                   \n",
    "    \n",
    "    ## test EBS and RBM to see if it can be found\n",
    "    topoEbs, topoRbm = checkTopo(EBS = EBSBlockModel,\n",
    "                                 RBM = RegBlockModel,\n",
    "                                 connection = conn)\n",
    "\n",
    "    ## test to see topoEbs and topoRbm match up\n",
    "    if topoEbs == False:\n",
    "        print(f\"No data found for EBS Block Model : {EBSBlockModel}, please check input for spelling mistakes\")\n",
    "    if topoRbm == False:\n",
    "        print(f\"No data found for Regularised Block Model : {RegBlockModel}, please check input for spelling mistakes\")\n",
    "\n",
    "    if topoEbs == topoRbm:\n",
    "        topoCheck = \"Identical\"\n",
    "    else:\n",
    "        topoCheck = \"Not Identical\"\n",
    "        print(\"WARNING: Topo of {EBSBlockModel} and {RegBlockModel} are not identical, program will proceed  if possible\")\n",
    "\n",
    "    \n",
    "    ## Step 1 - The Base Line\n",
    "    baseline = queryFunction(connection = conn,\n",
    "                             step = \"Baseline\",\n",
    "                             query = f\"\"\"\n",
    "                                         SELECT mineralisation, sum(t_t)\n",
    "                                         FROM {EBSBlockModel}\n",
    "                                         WHERE fe_bin NOT IN('00.0','null')\n",
    "                                         AND {topo}\n",
    "                                         AND {filled}\n",
    "                                         GROUP BY mineralisation \"\"\")\n",
    "    \n",
    "    ## Step 2 - The Lease loss\n",
    "    leaseLoss = queryFunction(connection = conn,\n",
    "                              step = \"Lease Loss\",\n",
    "                              query = f\"\"\"SELECT lease_name, sum(t_t)\n",
    "                                          FROM {EBSBlockModel}\n",
    "                                          WHERE fe_bin NOT IN('00.0','null')\n",
    "                                          AND {topo}\n",
    "                                          AND {filled}\n",
    "                                          AND lease Not in ('null')\n",
    "                                          GROUP BY lease_name \"\"\")\n",
    "\n",
    "    ## Step 3 - The Exrso loss\n",
    "    exrsoLoss = queryFunction(connection = conn,\n",
    "                              step = \"Exrso loss\",\n",
    "                              query = f\"\"\"SELECT exrso_type, sum(t_t)\n",
    "                                          FROM {EBSBlockModel}\n",
    "                                          WHERE fe_bin NOT IN('00.0','null')\n",
    "                                          AND {topo}\n",
    "                                          AND {filled}\n",
    "                                          AND lease Not in ('null')\n",
    "                                          AND exrso = 1\n",
    "                                          GROUP BY exrso_type \"\"\")\n",
    "\n",
    "    ## Step 4 - The unclassified resource loss\n",
    "    unclassifiedLoss = queryFunction(connection = conn,\n",
    "                                     step = \"Unclassified loss\",\n",
    "                                     query = f\"\"\"SELECT res_class, sum(t_t)\n",
    "                                                 FROM {EBSBlockModel}\n",
    "                                                 WHERE fe_bin NOT IN('00.0','null')\n",
    "                                                 AND {topo}\n",
    "                                                 AND {filled}\n",
    "                                                 AND lease Not in ('null')\n",
    "                                                 AND exrso = 0\n",
    "                                                 AND res_class  in ('measured', 'indicated', 'inferred') \n",
    "                                                 GROUP BY res_class \"\"\")\n",
    "\n",
    "\n",
    "    ## Step 5 - The Resource cutoff loss\n",
    "    resCutoffLoss = queryFunction(connection = conn,\n",
    "                                  step = \"Resource cutoff loss\",\n",
    "                                  query = f\"\"\"SELECT {RCutGroup}, sum(t_t)\n",
    "                                              FROM {EBSBlockModel}\n",
    "                                              WHERE fe_bin NOT IN('00.0','null')\n",
    "                                              AND {topo}\n",
    "                                              AND {filled}\n",
    "                                              AND lease Not in ('null')\n",
    "                                              AND exrso = 0\n",
    "                                              AND res_class  in ('measured', 'indicated', 'inferred') \n",
    "                                              AND {RCut}\n",
    "                                              GROUP BY {RCutGroup} \"\"\")\n",
    "\n",
    "    ## Step 6 - The mining cutoff\n",
    "    miningCutoff = queryFunction(connection = conn,\n",
    "                                 step = \"Mining cutoff\",\n",
    "                                 query = f\"\"\"SELECT {MCutGroup}, sum(t_t)\n",
    "                                             FROM {EBSBlockModel}\n",
    "                                             WHERE fe_bin NOT IN('00.0','null')\n",
    "                                             AND {topo}\n",
    "                                             AND {filled}\n",
    "                                             AND lease_name IS NOT NULL\n",
    "                                             AND exrso = 0\n",
    "                                             AND res_class  in ('measured', 'indicated', 'inferred') \n",
    "                                             AND {MCut}\n",
    "                                             GROUP BY {MCutGroup} \"\"\")\n",
    "\n",
    "    \n",
    "    ## Step 7 - The regularisation cutoff\n",
    "    regulisationCutoff = queryFunction(connection = conn,\n",
    "                                       step = \"regularisation cutoff\",\n",
    "                                       query = f\"\"\"SELECT {MCutGroup}, sum(t_t)\n",
    "                                                   FROM {RegBlockModel}\n",
    "                                                   WHERE fe_bin NOT IN('00.0','null')\n",
    "                                                   AND {topo}\n",
    "                                                   AND {filled}\n",
    "                                                   AND lease_name IS NOT NULL\n",
    "                                                   AND exrso = 0\n",
    "                                                   AND res_class  in ('measured', 'indicated', 'inferred') \n",
    "                                                   AND {MCut}\n",
    "                                                   GROUP BY {MCutGroup} \"\"\")\n",
    "\n",
    "    ## Step 8 - Optimisation and Pit\n",
    "    optimisationAndPut = queryFunction(connection = conn,\n",
    "                                       step = \"Optimisation and Pit\",\n",
    "                                       query = f\"\"\"SELECT {MCutGroup}, sum(t_t)\n",
    "                                                   FROM {RegBlockModel}\n",
    "                                                   WHERE fe_bin NOT IN ('00.0','null')\n",
    "                                                   AND {topo}\n",
    "                                                   AND {filled}\n",
    "                                                   AND lease_name IS NOT NULL\n",
    "                                                   AND exrso = 0\n",
    "                                                   AND res_class  in ('measured', 'indicated', 'inferred') \n",
    "                                                   AND {MCut}\n",
    "                                                   AND pit IN ('in')\n",
    "                                                   GROUP BY {MCutGroup} \"\"\")\n",
    "    ## Step 9 - Confidence\n",
    "    Resclass = queryFunction(connection = conn,\n",
    "                                       step = \"Confidence\",\n",
    "                                       query = f\"\"\"SELECT {MCutGroup}, sum(t_t)\n",
    "                                                   FROM {RegBlockModel}\n",
    "                                                   WHERE \n",
    "                                                   fe_bin NOT IN('00.0','null')\n",
    "                                                   AND {topo}\n",
    "                                                   AND {filled}\n",
    "                                                   AND lease NOT IN ('null')\n",
    "                                                   AND exrso = 0\n",
    "                                                   AND res_class  in ('measured', 'indicated') \n",
    "                                                   AND {MCut}\n",
    "                                                   AND pit IN ('in')\n",
    "                                                   GROUP BY {MCutGroup} \"\"\")\n",
    "\n",
    "    ## Step 10 - finding the lease names and separating exploration lease\n",
    "    explString = findLeaseName(leaseLoss)\n",
    "\n",
    "    ## Step 11 - finding the loss for exploration and other lease\n",
    "    explorationAndOtherLease = queryFunction(connection = conn,\n",
    "                                             step = \"Loss for exploration and other lease\",\n",
    "                                             query = f\"\"\"SELECT {MCutGroup}, sum(t_t)\n",
    "                                                         FROM {RegBlockModel}\n",
    "                                                         WHERE {mp_parcel}\n",
    "                                                         AND {topo}\n",
    "                                                         AND {filled}\n",
    "                                                         AND lease NOT IN ('null')\n",
    "                                                         AND exrso = 0\n",
    "                                                         AND {MCut}\n",
    "                                                         AND pit IN ('in')\n",
    "                                                         AND res_class  in ('measured', 'indicated')\n",
    "                                                         {explString}\n",
    "                                                         GROUP BY {MCutGroup} \"\"\")\n",
    "\n",
    "    ## Step 12 - The scheduling inventory - addition of other dest tag\n",
    "    schedulingInventory = queryFunction(connection = conn,\n",
    "                                        step = \"scheduling inventory - addition of other dest tag\",\n",
    "                                        query = f\"\"\"SELECT {SCutGroup}, sum(t_t)\n",
    "                                                    FROM {RegBlockModel}\n",
    "                                                    WHERE {mp_parcel}\n",
    "                                                    AND {topo}\n",
    "                                                    AND {filled}\n",
    "                                                    AND lease NOT IN ('null')\n",
    "                                                    AND exrso = 0\n",
    "                                                    AND {SCut}\n",
    "                                                    AND pit IN ('in')\n",
    "                                                    AND res_class  in ('measured', 'indicated')\n",
    "                                                    {explString}\n",
    "                                                    GROUP BY {SCutGroup} \"\"\")\n",
    "\n",
    "\n",
    "    ## Step 13 - mined out loss\n",
    "    minedOutLoss = queryFunction(connection = conn,\n",
    "                                 step = \"mined out loss\",\n",
    "                                 query = f\"\"\"SELECT res_class, sum(t_t)\n",
    "                                             FROM {RegBlockModel}\n",
    "                                             WHERE {mp_parcel}\n",
    "                                             AND {topo}\n",
    "                                             AND {filled}\n",
    "                                             AND lease NOT IN ('null')\n",
    "                                             AND exrso = 0\n",
    "                                             AND {SCut}\n",
    "                                             AND pit IN ('in')\n",
    "                                             AND res_class  in ('measured', 'indicated')\n",
    "                                             {explString}\n",
    "                                             AND {topoMined}\n",
    "                                             GROUP BY res_class\"\"\")\n",
    "\n",
    "    ## Step 14a : ORR is NOT Empty \n",
    "    if ORR_ORSModel != \"\":\n",
    "\n",
    "        ## 14A.1 ORR Approve Pit  \n",
    "        ApprovedPit = queryFunction(connection = conn,\n",
    "                                step = \"oorApprovedPit\",\n",
    "                                query = f\"\"\"SELECT res_class, sum(t_t)\n",
    "                                            FROM {ORR_ORSModel}\n",
    "                                            WHERE {mp_parcel}\n",
    "                                            AND {topo}\n",
    "                                            AND {filled}\n",
    "                                            AND lease Not in ('null')\n",
    "                                            AND exrso = 0\n",
    "                                            AND {SCut}\n",
    "                                            AND pit IN ('in')\n",
    "                                            AND res_class in ('measured', 'indicated'){explString}\n",
    "                                            AND {topoMined}\n",
    "                                            AND approved_pit = 1\n",
    "                                            GROUP BY res_class \"\"\")\n",
    "        \n",
    "        ## 14A.2 ORR Scheduled Loss\n",
    "        ScheduledOre = queryFunction(connection = conn,\n",
    "                                step = \"oorScheduledOre\",\n",
    "                                query = f\"\"\"SELECT res_class, sum(tsched_t)\n",
    "                                            FROM {ORR_ORSModel}\n",
    "                                            WHERE {mp_parcel}\n",
    "                                            AND {topo}\n",
    "                                            AND {filled}\n",
    "                                            AND lease Not in ('null')\n",
    "                                            AND exrso = 0\n",
    "                                            AND rsv_dest in ('schedule_ore')\n",
    "                                            AND pit IN ('in')\n",
    "                                            AND res_class in ('measured', 'indicated'){explString}\n",
    "                                            AND {topoMined}\n",
    "                                            AND approved_pit = 1\n",
    "                                            GROUP BY res_class \"\"\")\n",
    "\n",
    "        ## 14A.3 ORR Processing Loss\n",
    "        PlantLoss = queryFunction(connection = conn,\n",
    "                                step = \"oorPlantLoss\",\n",
    "                                query = f\"\"\"SELECT res_class, sum(s_f_t + s_l_t)\n",
    "                                            FROM {ORR_ORSModel}\n",
    "                                            WHERE {mp_parcel}\n",
    "                                            AND {topo}\n",
    "                                            AND {filled}\n",
    "                                            AND lease Not in ('null')\n",
    "                                            AND exrso = 0\n",
    "                                            AND rsv_dest in ('schedule_ore')\n",
    "                                            AND pit IN ('in')\n",
    "                                            AND res_class in ('measured', 'indicated'){explString}\n",
    "                                            AND {topoMined}\n",
    "                                            AND approved_pit = 1\n",
    "                                            GROUP BY res_class \"\"\")\n",
    "\n",
    "## MISSing VARIABLE t_fe>= 50\n",
    "        ## 14A.4 ORR Jorc Class\n",
    "        JorcClassDF = queryFunction(connection = conn,\n",
    "                                step = \"oorJorcClass\",\n",
    "                                query = f\"\"\"SELECT res_class, sum(s_f_t + s_l_t)\n",
    "                                            FROM {ORR_ORSModel}\n",
    "                                            WHERE {mp_parcel}\n",
    "                                            AND {topo}\n",
    "                                            AND {filled}\n",
    "                                            AND lease Not in ('null')\n",
    "                                            AND exrso = 0\n",
    "                                            AND rsv_dest in ('schedule_ore')\n",
    "                                            AND pit IN ('in')\n",
    "                                            AND res_class in ('measured', 'indicated'){explString}\n",
    "                                            AND {topoMined}\n",
    "                                            AND approved_pit = 1\n",
    "                                            AND rsv_class_jorc IN ('proved', 'probable')\n",
    "                                            GROUP BY res_class \"\"\")\n",
    "    \n",
    "    else:\n",
    "\n",
    "        ## Step 14 b\n",
    "        ## RBM Approved Pit #### Varibale MISSING\n",
    "        ApprovedPit = queryFunction(connection = conn,\n",
    "                                step = \"ApprovedPit\",\n",
    "                                query = f\"\"\"SELECT res_class, sum(t_t)\n",
    "                                            FROM  {RegBlockModel}\n",
    "                                            WHERE {mp_parcel}\n",
    "                                            AND {topo}\n",
    "                                            AND {filled}\n",
    "                                            AND lease Not in ('null')\n",
    "                                            AND exrso = 0\n",
    "                                            AND {SCut}\n",
    "                                            AND pit IN ('in')\n",
    "                                            AND res_class in ('measured', 'indicated'){explString}\n",
    "                                            AND {topoMined}\n",
    "                                            AND approved_pit = 1\n",
    "                                            GROUP BY res_class \"\"\")\n",
    "\n",
    "        indicated_ore = 0\n",
    "        measured_ore = 0\n",
    "        indicated_plant = 0\n",
    "        measured_plant = 0\n",
    "        inut = 'mp_dest' \n",
    "\n",
    "        for i in range(0,len(ModFactor)):\n",
    "            Field = ModFactor['Field'][i]\n",
    "            plant = ModFactor['plant'][i]\n",
    "            Ratio = ModFactor['Ratio'][i]\n",
    "            if i == 0:\n",
    "                if Ratio != 0 :\n",
    "                    \n",
    "                    FieldList = f\"'{str(Field)}'\"\n",
    "            else:\n",
    "                if Ratio != 0 :\n",
    "                \n",
    "                    FieldList += f\", '{str(Field)}'\" # dealing with inut inputs for Field List Colum of ModFactor Table\n",
    "\n",
    "        ScheduleAndPlantLoss = queryFunction(connection = conn,\n",
    "                    step = \"ScheduleAndPlantLoss\",\n",
    "                    query = f\"\"\"SELECT res_class, sum(t_t), sum({plant}) \n",
    "                                FROM {RegBlockModel}\n",
    "                                WHERE {mp_parcel}\n",
    "                                AND {topo}\n",
    "                                AND lease Not in ('null')\n",
    "                                AND exrso = 0\n",
    "                                AND {SCut}\n",
    "                                AND pit IN ('in')\n",
    "                                AND res_class in ('measured', 'indicated'){explString}\n",
    "                                AND {topoMined}\n",
    "                                AND approved_pit = 1\n",
    "                                AND filled = 999999\n",
    "                                AND {inut} IN ({FieldList})  \n",
    "                                GROUP BY res_class \"\"\") \n",
    "\n",
    "        Ratio = ModFactor[ModFactor['Ratio'] != 0]['Ratio'].mean()\n",
    "        if ScheduleAndPlantLoss.iloc[0, 0] == 'indicated':\n",
    "            indicated_ore = indicated_ore + ScheduleAndPlantLoss.iloc[0, 1] * Ratio\n",
    "            indicated_plant = indicated_plant + ScheduleAndPlantLoss.iloc[0, 2] * Ratio\n",
    "        else:\n",
    "            measured_ore = measured_ore +  ScheduleAndPlantLoss.iloc[0, 1]* Ratio\n",
    "            measured_plant = measured_plant +  ScheduleAndPlantLoss.iloc[0, 2] * Ratio    \n",
    "\n",
    "        if  ScheduleAndPlantLoss.iloc[0, 0] != 'indicated': \n",
    "            indicated_ore = indicated_ore + ScheduleAndPlantLoss.iloc[1, 1] * Ratio\n",
    "            indicated_plant = indicated_plant + ScheduleAndPlantLoss.iloc[1, 2] * Ratio\n",
    "        else:\n",
    "            if len(ScheduleAndPlantLoss) > 1:\n",
    "                    measured_ore = measured_ore +  ScheduleAndPlantLoss.iloc[1, 1]* Ratio\n",
    "                    measured_plant = measured_plant +  ScheduleAndPlantLoss.iloc[1, 2] * Ratio  \n",
    "            else:\n",
    "                    measured_ore = measured_ore\n",
    "                    measured_plant = measured_plant \n",
    "        \n",
    "        ScheduledOre = pd.DataFrame([indicated_ore, measured_ore], ['inidcated_ore', 'measured_ore']).reset_index().rename(columns = {'index': 'ScheduleLoss', 0 : 'SLvalue'})\n",
    "        PlantLoss = pd.DataFrame([indicated_plant, measured_plant], ['inidcated_plant', 'measured_plant']).reset_index().rename(columns = {'index': 'ProcessingLoss', 0 : 'PLvalue'})\n",
    "\n",
    "\n",
    "    ## Jorc Class\n",
    "            ## Jorc Class\n",
    "        jorc_indicated_ore = 0\n",
    "        jorc_measured_ore = 0\n",
    "        jorc_indicated_plant = 0\n",
    "        jorc_measured_plant = 0\n",
    "        jorc_inut = 'mp_dest' \n",
    "\n",
    "        for i in range(0,len(ModFactor)):\n",
    "            Field = ModFactor['Field'][i]\n",
    "            plant = ModFactor['plant'][i]\n",
    "            Ratio = ModFactor['Ratio'][i]\n",
    "            if i == 0:\n",
    "                if Ratio != 0 :\n",
    "                    \n",
    "                    FieldList = f\"'{str(Field)}'\"\n",
    "            else:\n",
    "                if Ratio != 0 :\n",
    "                \n",
    "                    FieldList += f\", '{str(Field)}'\" # dealing with inut inputs for Field List Colum of ModFactor Table\n",
    "\n",
    "        JorcClass = queryFunction(connection = conn,\n",
    "                    step = \"JorcClass\",\n",
    "                    query = f\"\"\"SELECT res_class, sum({plant})\n",
    "                                FROM {RegBlockModel}\n",
    "                                WHERE {mp_parcel}\n",
    "                                AND {topo}\n",
    "                                AND  filled = 999999\n",
    "                                AND lease Not in ('null')\n",
    "                                AND exrso = 0\n",
    "                                AND {SCut}\n",
    "                                AND pit IN ('in')\n",
    "                                AND res_class in ('measured', 'indicated'){explString}\n",
    "                                AND {topoMined}\n",
    "                                AND approved_pit = 1\n",
    "                                AND {inut} IN ({FieldList})\n",
    "                                AND rsv_class_jorc IN('proved', 'probable')\n",
    "                                GROUP BY res_class \"\"\")\n",
    "\n",
    "        Ratio = ModFactor[ModFactor['Ratio'] != 0]['Ratio'].mean()\n",
    "        if JorcClass.iloc[0, 0] == 'indicated':\n",
    "            jorc_indicated_plant = jorc_indicated_plant + JorcClass.iloc[0, 1] * Ratio\n",
    "        else:\n",
    "            jorc_measured_plant = jorc_measured_plant + JorcClass.iloc[0, 1] * Ratio    \n",
    "\n",
    "        if  JorcClass.iloc[0, 0] != 'indicated': \n",
    "            jorc_indicated_plant = jorc_indicated_plant + JorcClass.iloc[1, 1] * Ratio\n",
    "        else:\n",
    "            if len(ScheduleAndPlantLoss) > 1:\n",
    "                jorc_measured_plant = jorc_measured_plant +  JorcClass.iloc[1, 1] * Ratio\n",
    "            else:\n",
    "                    jorc_measured_plant = jorc_measured_plant\n",
    "\n",
    "        JorcClassDF = pd.DataFrame([jorc_indicated_plant, jorc_measured_plant], ['inidcated','measured']).reset_index().rename(columns = {'index': 'JorcClass', 0 : 'JCvalue'})\n",
    "        \n",
    "\n",
    "    return baseline, leaseLoss, exrsoLoss, unclassifiedLoss, resCutoffLoss, miningCutoff, regulisationCutoff,optimisationAndPut, Resclass, explorationAndOtherLease, schedulingInventory, minedOutLoss, ApprovedPit,ScheduledOre, PlantLoss,  JorcClassDF\n",
    "\n",
    "\n",
    "\n",
    "baseline, leaseLoss, exrsoLoss, unclassifiedLoss, resCutoffLoss, miningCutoff,regulisationCutoff, optimisationAndPut,Resclass, explorationAndOtherLease, schedulingInventory, minedOutLoss,ApprovedPit,ScheduledOre, PlantLoss, JorcClassDF  = main(EBSBlockModel,\n",
    "            RegBlockModel,\n",
    "            ORR_ORSModel,\n",
    "            RCut,\n",
    "            RCutGroup,\n",
    "            MCut,\n",
    "            MCutGroup,\n",
    "            SCut,\n",
    "            SCutGroup,\n",
    "            topo,\n",
    "            filled,\n",
    "            topoMined,\n",
    "            topoCheck,\n",
    "            ModFactor)\n"
   ]
  },
  {
   "cell_type": "markdown",
   "metadata": {},
   "source": [
    "FORMATTING OUTPUT DATA"
   ]
  },
  {
   "cell_type": "code",
   "execution_count": 21,
   "metadata": {},
   "outputs": [],
   "source": [
    "\n",
    "def rename_columns(baseline, leaseLoss, exrsoLoss, unclassifiedLoss, resCutoffLoss, miningCutoff,regulisationCutoff, optimisationAndPut,Resclass, explorationAndOtherLease, schedulingInventory, minedOutLoss,ApprovedPit,ScheduledOre, PlantLoss, JorcClassDF):\n",
    "    baseline = baseline.rename(columns = {'mineralisation': 'baseline', '': 'BSvalue'})\n",
    "    leaseLoss = leaseLoss.rename(columns = {'mineralisation': 'baseline', '': 'LLvalue'})\n",
    "    exrsoLoss = exrsoLoss.rename(columns = {'exrso_type': 'EXRSO', '': 'EXvalue'})\n",
    "    unclassifiedLoss = unclassifiedLoss.rename(columns = {'res_class': 'unclassified_resource', '': 'URvalue'})\n",
    "    resCutoffLoss = resCutoffLoss.rename(columns = {'dest_tag': 'resource_cutoff_loss', '': 'RCvalue'})\n",
    "    miningCutoff = miningCutoff.rename(columns = {'mp_dest': 'mininng_cutoff_loss', '': 'MCvalue'})\n",
    "    regulisationCutoff = regulisationCutoff.rename(columns = {'mp_dest': 'regularisation_cutoff', '': 'REGvalue'}) ## aka SMU Cut off\n",
    "    optimisationAndPut = optimisationAndPut.rename(columns = {'mp_dest': 'optimisation_and_pit', '': 'OPvalue'})\n",
    "    Resclass = Resclass.rename(columns = {'mp_dest': 'Resclass', '': 'ResClassvalue'})\n",
    "    explorationAndOtherLease = explorationAndOtherLease.rename(columns = {'mp_dest': 'explorationAndOtherLease', '': 'ELvalue'})\n",
    "    schedulingInventory = schedulingInventory.rename(columns = {'mp_dest': 'SchedulingInventory', '': 'SIvalue'}) # aka Potential VCOG\n",
    "    minedOutLoss = minedOutLoss.rename(columns = {'res_class': 'minedOutLoss', '': 'MOLvalue'})\n",
    "    ApprovedPit = ApprovedPit.rename(columns = {'res_class': 'ApprovedPit', '': 'APvalue'})\n",
    "    ScheduledOre = ScheduledOre.rename(columns = {'res_class': 'ScheduleLoss', '': 'SLvalue'})\n",
    "    PlantLoss = PlantLoss.rename(columns = {'res_class': 'ScheduleLoss', '': 'PLvalue'})\n",
    "    JorcClassDF = JorcClassDF.rename(columns = {'res_class': 'ScheduleLoss', '': 'JCvalue'})\n",
    "\n",
    "    #Create table\n",
    "    table = pd.concat([baseline, leaseLoss, exrsoLoss, unclassifiedLoss, resCutoffLoss, miningCutoff, regulisationCutoff, optimisationAndPut,Resclass, explorationAndOtherLease, schedulingInventory, minedOutLoss, ApprovedPit,ScheduledOre, PlantLoss, JorcClassDF ], axis = 1)\n",
    "    return table \n",
    "table = rename_columns(baseline, leaseLoss, exrsoLoss, unclassifiedLoss, resCutoffLoss, miningCutoff,regulisationCutoff, optimisationAndPut,Resclass, explorationAndOtherLease, schedulingInventory, minedOutLoss,ApprovedPit,ScheduledOre, PlantLoss, JorcClassDF)"
   ]
  },
  {
   "cell_type": "code",
   "execution_count": 22,
   "metadata": {},
   "outputs": [
    {
     "data": {
      "text/html": [
       "<div>\n",
       "<style scoped>\n",
       "    .dataframe tbody tr th:only-of-type {\n",
       "        vertical-align: middle;\n",
       "    }\n",
       "\n",
       "    .dataframe tbody tr th {\n",
       "        vertical-align: top;\n",
       "    }\n",
       "\n",
       "    .dataframe thead th {\n",
       "        text-align: right;\n",
       "    }\n",
       "</style>\n",
       "<table border=\"1\" class=\"dataframe\">\n",
       "  <thead>\n",
       "    <tr style=\"text-align: right;\">\n",
       "      <th></th>\n",
       "      <th>baseline</th>\n",
       "      <th>BSvalue</th>\n",
       "      <th>lease_name</th>\n",
       "      <th>LLvalue</th>\n",
       "      <th>EXRSO</th>\n",
       "      <th>EXvalue</th>\n",
       "      <th>unclassified_resource</th>\n",
       "      <th>URvalue</th>\n",
       "      <th>resource_cutoff_loss</th>\n",
       "      <th>RCvalue</th>\n",
       "      <th>...</th>\n",
       "      <th>minedOutLoss</th>\n",
       "      <th>MOLvalue</th>\n",
       "      <th>ApprovedPit</th>\n",
       "      <th>APvalue</th>\n",
       "      <th>ScheduleLoss</th>\n",
       "      <th>SLvalue</th>\n",
       "      <th>ProcessingLoss</th>\n",
       "      <th>PLvalue</th>\n",
       "      <th>JorcClass</th>\n",
       "      <th>JCvalue</th>\n",
       "    </tr>\n",
       "  </thead>\n",
       "  <tbody>\n",
       "    <tr>\n",
       "      <th>0</th>\n",
       "      <td>1.0</td>\n",
       "      <td>2.769226e+07</td>\n",
       "      <td>aml70/00248_sec_071</td>\n",
       "      <td>8.531534e+07</td>\n",
       "      <td>exrsofilled</td>\n",
       "      <td>5.719659e+07</td>\n",
       "      <td>indicated</td>\n",
       "      <td>1.072231e+07</td>\n",
       "      <td>hg</td>\n",
       "      <td>3.375012e+07</td>\n",
       "      <td>...</td>\n",
       "      <td>indicated</td>\n",
       "      <td>228710.299805</td>\n",
       "      <td>indicated</td>\n",
       "      <td>228710.299805</td>\n",
       "      <td>inidcated_ore</td>\n",
       "      <td>228710.299805</td>\n",
       "      <td>inidcated_plant</td>\n",
       "      <td>228710.300049</td>\n",
       "      <td>inidcated</td>\n",
       "      <td>228710.300049</td>\n",
       "    </tr>\n",
       "    <tr>\n",
       "      <th>1</th>\n",
       "      <td>2.0</td>\n",
       "      <td>6.244465e+07</td>\n",
       "      <td>aml70/00248_sec_072</td>\n",
       "      <td>9.031174e+07</td>\n",
       "      <td>exrsvfilled</td>\n",
       "      <td>5.927663e+07</td>\n",
       "      <td>inferred</td>\n",
       "      <td>3.331846e+06</td>\n",
       "      <td>NaN</td>\n",
       "      <td>NaN</td>\n",
       "      <td>...</td>\n",
       "      <td>NaN</td>\n",
       "      <td>NaN</td>\n",
       "      <td>NaN</td>\n",
       "      <td>NaN</td>\n",
       "      <td>measured_ore</td>\n",
       "      <td>0.000000</td>\n",
       "      <td>measured_plant</td>\n",
       "      <td>0.000000</td>\n",
       "      <td>measured</td>\n",
       "      <td>0.000000</td>\n",
       "    </tr>\n",
       "    <tr>\n",
       "      <th>2</th>\n",
       "      <td>5.0</td>\n",
       "      <td>9.607645e+07</td>\n",
       "      <td>aml70/00248_sec_077</td>\n",
       "      <td>6.423203e+06</td>\n",
       "      <td>exrsvremnant</td>\n",
       "      <td>2.715166e+05</td>\n",
       "      <td>measured</td>\n",
       "      <td>5.541447e+07</td>\n",
       "      <td>NaN</td>\n",
       "      <td>NaN</td>\n",
       "      <td>...</td>\n",
       "      <td>NaN</td>\n",
       "      <td>NaN</td>\n",
       "      <td>NaN</td>\n",
       "      <td>NaN</td>\n",
       "      <td>NaN</td>\n",
       "      <td>NaN</td>\n",
       "      <td>NaN</td>\n",
       "      <td>NaN</td>\n",
       "      <td>NaN</td>\n",
       "      <td>NaN</td>\n",
       "    </tr>\n",
       "    <tr>\n",
       "      <th>3</th>\n",
       "      <td>NaN</td>\n",
       "      <td>NaN</td>\n",
       "      <td>ml248sa_sec071</td>\n",
       "      <td>4.163020e+06</td>\n",
       "      <td>NaN</td>\n",
       "      <td>NaN</td>\n",
       "      <td>NaN</td>\n",
       "      <td>NaN</td>\n",
       "      <td>NaN</td>\n",
       "      <td>NaN</td>\n",
       "      <td>...</td>\n",
       "      <td>NaN</td>\n",
       "      <td>NaN</td>\n",
       "      <td>NaN</td>\n",
       "      <td>NaN</td>\n",
       "      <td>NaN</td>\n",
       "      <td>NaN</td>\n",
       "      <td>NaN</td>\n",
       "      <td>NaN</td>\n",
       "      <td>NaN</td>\n",
       "      <td>NaN</td>\n",
       "    </tr>\n",
       "    <tr>\n",
       "      <th>4</th>\n",
       "      <td>NaN</td>\n",
       "      <td>NaN</td>\n",
       "      <td>notlive</td>\n",
       "      <td>6.664822e+01</td>\n",
       "      <td>NaN</td>\n",
       "      <td>NaN</td>\n",
       "      <td>NaN</td>\n",
       "      <td>NaN</td>\n",
       "      <td>NaN</td>\n",
       "      <td>NaN</td>\n",
       "      <td>...</td>\n",
       "      <td>NaN</td>\n",
       "      <td>NaN</td>\n",
       "      <td>NaN</td>\n",
       "      <td>NaN</td>\n",
       "      <td>NaN</td>\n",
       "      <td>NaN</td>\n",
       "      <td>NaN</td>\n",
       "      <td>NaN</td>\n",
       "      <td>NaN</td>\n",
       "      <td>NaN</td>\n",
       "    </tr>\n",
       "  </tbody>\n",
       "</table>\n",
       "<p>5 rows × 32 columns</p>\n",
       "</div>"
      ],
      "text/plain": [
       "   baseline       BSvalue           lease_name       LLvalue         EXRSO  \\\n",
       "0       1.0  2.769226e+07  aml70/00248_sec_071  8.531534e+07   exrsofilled   \n",
       "1       2.0  6.244465e+07  aml70/00248_sec_072  9.031174e+07   exrsvfilled   \n",
       "2       5.0  9.607645e+07  aml70/00248_sec_077  6.423203e+06  exrsvremnant   \n",
       "3       NaN           NaN       ml248sa_sec071  4.163020e+06           NaN   \n",
       "4       NaN           NaN              notlive  6.664822e+01           NaN   \n",
       "\n",
       "        EXvalue unclassified_resource       URvalue resource_cutoff_loss  \\\n",
       "0  5.719659e+07             indicated  1.072231e+07                   hg   \n",
       "1  5.927663e+07              inferred  3.331846e+06                  NaN   \n",
       "2  2.715166e+05              measured  5.541447e+07                  NaN   \n",
       "3           NaN                   NaN           NaN                  NaN   \n",
       "4           NaN                   NaN           NaN                  NaN   \n",
       "\n",
       "        RCvalue  ... minedOutLoss       MOLvalue ApprovedPit        APvalue  \\\n",
       "0  3.375012e+07  ...    indicated  228710.299805   indicated  228710.299805   \n",
       "1           NaN  ...          NaN            NaN         NaN            NaN   \n",
       "2           NaN  ...          NaN            NaN         NaN            NaN   \n",
       "3           NaN  ...          NaN            NaN         NaN            NaN   \n",
       "4           NaN  ...          NaN            NaN         NaN            NaN   \n",
       "\n",
       "    ScheduleLoss        SLvalue   ProcessingLoss        PLvalue  JorcClass  \\\n",
       "0  inidcated_ore  228710.299805  inidcated_plant  228710.300049  inidcated   \n",
       "1   measured_ore       0.000000   measured_plant       0.000000   measured   \n",
       "2            NaN            NaN              NaN            NaN        NaN   \n",
       "3            NaN            NaN              NaN            NaN        NaN   \n",
       "4            NaN            NaN              NaN            NaN        NaN   \n",
       "\n",
       "         JCvalue  \n",
       "0  228710.300049  \n",
       "1       0.000000  \n",
       "2            NaN  \n",
       "3            NaN  \n",
       "4            NaN  \n",
       "\n",
       "[5 rows x 32 columns]"
      ]
     },
     "execution_count": 22,
     "metadata": {},
     "output_type": "execute_result"
    }
   ],
   "source": [
    "table"
   ]
  },
  {
   "cell_type": "markdown",
   "metadata": {},
   "source": [
    "\"REMAINING\" & \"LOSS\" calculations"
   ]
  },
  {
   "cell_type": "code",
   "execution_count": 23,
   "metadata": {},
   "outputs": [
    {
     "name": "stderr",
     "output_type": "stream",
     "text": [
      "C:\\Users\\mike.heck\\AppData\\Local\\Temp\\ipykernel_25692\\3407683809.py:1: FutureWarning:\n",
      "\n",
      "The default value of numeric_only in DataFrame.sum is deprecated. In a future version, it will default to False. In addition, specifying 'numeric_only=None' is deprecated. Select only valid columns or specify the value of numeric_only to silence this warning.\n",
      "\n"
     ]
    }
   ],
   "source": [
    "summary = pd.DataFrame(table.sum(axis = 0).iloc[1:]).transpose()\n",
    "labels = pd.DataFrame(pd.Series(['Remaining', 'Loss']))\n",
    "summary = pd.concat((labels,summary),axis=1).fillna('')"
   ]
  },
  {
   "cell_type": "code",
   "execution_count": 24,
   "metadata": {},
   "outputs": [
    {
     "data": {
      "text/html": [
       "<div>\n",
       "<style scoped>\n",
       "    .dataframe tbody tr th:only-of-type {\n",
       "        vertical-align: middle;\n",
       "    }\n",
       "\n",
       "    .dataframe tbody tr th {\n",
       "        vertical-align: top;\n",
       "    }\n",
       "\n",
       "    .dataframe thead th {\n",
       "        text-align: right;\n",
       "    }\n",
       "</style>\n",
       "<table border=\"1\" class=\"dataframe\">\n",
       "  <thead>\n",
       "    <tr style=\"text-align: right;\">\n",
       "      <th></th>\n",
       "      <th>0</th>\n",
       "      <th>BSvalue</th>\n",
       "      <th>lease_name</th>\n",
       "      <th>LLvalue</th>\n",
       "      <th>EXvalue</th>\n",
       "      <th>URvalue</th>\n",
       "      <th>RCvalue</th>\n",
       "      <th>MCvalue</th>\n",
       "      <th>REGvalue</th>\n",
       "      <th>OPvalue</th>\n",
       "      <th>ResClassvalue</th>\n",
       "      <th>ELvalue</th>\n",
       "      <th>SIvalue</th>\n",
       "      <th>MOLvalue</th>\n",
       "      <th>APvalue</th>\n",
       "      <th>SLvalue</th>\n",
       "      <th>PLvalue</th>\n",
       "      <th>JCvalue</th>\n",
       "    </tr>\n",
       "  </thead>\n",
       "  <tbody>\n",
       "    <tr>\n",
       "      <th>0</th>\n",
       "      <td>Remaining</td>\n",
       "      <td>186213363.773615</td>\n",
       "      <td>aml70/00248_sec_071aml70/00248_sec_072aml70/00...</td>\n",
       "      <td>186213363.773615</td>\n",
       "      <td>116744735.842821</td>\n",
       "      <td>69468627.930794</td>\n",
       "      <td>33750120.228172</td>\n",
       "      <td>33750120.228172</td>\n",
       "      <td>24263174.5271</td>\n",
       "      <td>6459034.068359</td>\n",
       "      <td>6459034.068359</td>\n",
       "      <td>228710.299805</td>\n",
       "      <td>228710.299805</td>\n",
       "      <td>228710.299805</td>\n",
       "      <td>228710.299805</td>\n",
       "      <td>228710.299805</td>\n",
       "      <td>228710.300049</td>\n",
       "      <td>228710.300049</td>\n",
       "    </tr>\n",
       "    <tr>\n",
       "      <th>1</th>\n",
       "      <td>Loss</td>\n",
       "      <td></td>\n",
       "      <td></td>\n",
       "      <td></td>\n",
       "      <td></td>\n",
       "      <td></td>\n",
       "      <td></td>\n",
       "      <td></td>\n",
       "      <td></td>\n",
       "      <td></td>\n",
       "      <td></td>\n",
       "      <td></td>\n",
       "      <td></td>\n",
       "      <td></td>\n",
       "      <td></td>\n",
       "      <td></td>\n",
       "      <td></td>\n",
       "      <td></td>\n",
       "    </tr>\n",
       "  </tbody>\n",
       "</table>\n",
       "</div>"
      ],
      "text/plain": [
       "           0           BSvalue  \\\n",
       "0  Remaining  186213363.773615   \n",
       "1       Loss                     \n",
       "\n",
       "                                          lease_name           LLvalue  \\\n",
       "0  aml70/00248_sec_071aml70/00248_sec_072aml70/00...  186213363.773615   \n",
       "1                                                                        \n",
       "\n",
       "            EXvalue          URvalue          RCvalue          MCvalue  \\\n",
       "0  116744735.842821  69468627.930794  33750120.228172  33750120.228172   \n",
       "1                                                                        \n",
       "\n",
       "        REGvalue         OPvalue   ResClassvalue        ELvalue  \\\n",
       "0  24263174.5271  6459034.068359  6459034.068359  228710.299805   \n",
       "1                                                                 \n",
       "\n",
       "         SIvalue       MOLvalue        APvalue        SLvalue        PLvalue  \\\n",
       "0  228710.299805  228710.299805  228710.299805  228710.299805  228710.300049   \n",
       "1                                                                              \n",
       "\n",
       "         JCvalue  \n",
       "0  228710.300049  \n",
       "1                 "
      ]
     },
     "execution_count": 24,
     "metadata": {},
     "output_type": "execute_result"
    }
   ],
   "source": [
    "summary"
   ]
  },
  {
   "cell_type": "code",
   "execution_count": 25,
   "metadata": {},
   "outputs": [],
   "source": [
    "#Loss Calculations\n",
    "summary['LLvalue'].iloc[1] = summary['BSvalue'].iloc[0] - summary['LLvalue'].iloc[0]\n",
    "summary['EXvalue'].iloc[1] = summary['EXvalue'].iloc[0] * -1\n",
    "if summary['EXvalue'][1] == '':\n",
    "    summary['EXvalue'].iloc[0] = 0\n",
    "else:\n",
    "    summary['EXvalue'].iloc[0] = summary['EXvalue'].iloc[1] + summary['LLvalue'].iloc[0] # remaining Value\n",
    "\n",
    "summary['URvalue'].iloc[1] = summary['EXvalue'].iloc[0] - summary['URvalue'].iloc[0]\n",
    "summary['RCvalue'].iloc[1] = summary['URvalue'].iloc[0] - summary['RCvalue'].iloc[0]\n",
    "summary['MCvalue'].iloc[1] = summary['RCvalue'].iloc[0] - summary['MCvalue'].iloc[0]\n",
    "summary['REGvalue'].iloc[1] = summary['MCvalue'].iloc[0] - summary['REGvalue'].iloc[0]\n",
    "summary['OPvalue'].iloc[1] = summary['REGvalue'].iloc[0] - summary['OPvalue'].iloc[0]\n",
    "summary['ResClassvalue'].iloc[1] = summary['OPvalue'].iloc[0] - summary['ResClassvalue'].iloc[0]\n",
    "summary['ELvalue'].iloc[1] = summary['ResClassvalue'].iloc[0] - summary['ELvalue'].iloc[0]\n",
    "summary['SIvalue'].iloc[1] = -1*(summary['ELvalue'].iloc[0] - summary['SIvalue'].iloc[0])\n",
    "summary['MOLvalue'].iloc[1] = summary['SIvalue'].iloc[0] - summary['MOLvalue'].iloc[0]\n",
    "\n",
    "summary['APvalue'].iloc[1] = summary['MOLvalue'].iloc[0] - summary['APvalue'].iloc[0]\n",
    "summary['SLvalue'].iloc[1] = summary['APvalue'].iloc[0] - summary['SLvalue'].iloc[0]\n",
    "summary['PLvalue'].iloc[1] = summary['SLvalue'].iloc[0] - summary['PLvalue'].iloc[0]\n",
    "summary['JCvalue'].iloc[1] = summary['PLvalue'].iloc[0] - summary['JCvalue'].iloc[0]"
   ]
  },
  {
   "cell_type": "markdown",
   "metadata": {},
   "source": [
    "## Waterfall Chart"
   ]
  },
  {
   "cell_type": "code",
   "execution_count": 26,
   "metadata": {},
   "outputs": [
    {
     "data": {
      "text/html": [
       "<div>\n",
       "<style scoped>\n",
       "    .dataframe tbody tr th:only-of-type {\n",
       "        vertical-align: middle;\n",
       "    }\n",
       "\n",
       "    .dataframe tbody tr th {\n",
       "        vertical-align: top;\n",
       "    }\n",
       "\n",
       "    .dataframe thead th {\n",
       "        text-align: right;\n",
       "    }\n",
       "</style>\n",
       "<table border=\"1\" class=\"dataframe\">\n",
       "  <thead>\n",
       "    <tr style=\"text-align: right;\">\n",
       "      <th></th>\n",
       "      <th>0</th>\n",
       "      <th>BSvalue</th>\n",
       "      <th>lease_name</th>\n",
       "      <th>LLvalue</th>\n",
       "      <th>EXvalue</th>\n",
       "      <th>URvalue</th>\n",
       "      <th>RCvalue</th>\n",
       "      <th>MCvalue</th>\n",
       "      <th>REGvalue</th>\n",
       "      <th>OPvalue</th>\n",
       "      <th>ResClassvalue</th>\n",
       "      <th>ELvalue</th>\n",
       "      <th>SIvalue</th>\n",
       "      <th>MOLvalue</th>\n",
       "      <th>APvalue</th>\n",
       "      <th>SLvalue</th>\n",
       "      <th>PLvalue</th>\n",
       "      <th>JCvalue</th>\n",
       "    </tr>\n",
       "  </thead>\n",
       "  <tbody>\n",
       "    <tr>\n",
       "      <th>0</th>\n",
       "      <td>Remaining</td>\n",
       "      <td>186213363.773615</td>\n",
       "      <td>aml70/00248_sec_071aml70/00248_sec_072aml70/00...</td>\n",
       "      <td>186213363.773615</td>\n",
       "      <td>69468627.930794</td>\n",
       "      <td>69468627.930794</td>\n",
       "      <td>33750120.228172</td>\n",
       "      <td>33750120.228172</td>\n",
       "      <td>24263174.5271</td>\n",
       "      <td>6459034.068359</td>\n",
       "      <td>6459034.068359</td>\n",
       "      <td>228710.299805</td>\n",
       "      <td>228710.299805</td>\n",
       "      <td>228710.299805</td>\n",
       "      <td>228710.299805</td>\n",
       "      <td>228710.299805</td>\n",
       "      <td>228710.300049</td>\n",
       "      <td>228710.300049</td>\n",
       "    </tr>\n",
       "    <tr>\n",
       "      <th>1</th>\n",
       "      <td>Loss</td>\n",
       "      <td></td>\n",
       "      <td></td>\n",
       "      <td>0.0</td>\n",
       "      <td>-116744735.842821</td>\n",
       "      <td>0.0</td>\n",
       "      <td>35718507.702621</td>\n",
       "      <td>0.0</td>\n",
       "      <td>9486945.701073</td>\n",
       "      <td>17804140.45874</td>\n",
       "      <td>0.0</td>\n",
       "      <td>6230323.768555</td>\n",
       "      <td>-0.0</td>\n",
       "      <td>0.0</td>\n",
       "      <td>0.0</td>\n",
       "      <td>0.0</td>\n",
       "      <td>-0.000244</td>\n",
       "      <td>0.0</td>\n",
       "    </tr>\n",
       "  </tbody>\n",
       "</table>\n",
       "</div>"
      ],
      "text/plain": [
       "           0           BSvalue  \\\n",
       "0  Remaining  186213363.773615   \n",
       "1       Loss                     \n",
       "\n",
       "                                          lease_name           LLvalue  \\\n",
       "0  aml70/00248_sec_071aml70/00248_sec_072aml70/00...  186213363.773615   \n",
       "1                                                                  0.0   \n",
       "\n",
       "            EXvalue          URvalue          RCvalue          MCvalue  \\\n",
       "0   69468627.930794  69468627.930794  33750120.228172  33750120.228172   \n",
       "1 -116744735.842821              0.0  35718507.702621              0.0   \n",
       "\n",
       "         REGvalue         OPvalue   ResClassvalue         ELvalue  \\\n",
       "0   24263174.5271  6459034.068359  6459034.068359   228710.299805   \n",
       "1  9486945.701073  17804140.45874             0.0  6230323.768555   \n",
       "\n",
       "         SIvalue       MOLvalue        APvalue        SLvalue        PLvalue  \\\n",
       "0  228710.299805  228710.299805  228710.299805  228710.299805  228710.300049   \n",
       "1           -0.0            0.0            0.0            0.0      -0.000244   \n",
       "\n",
       "         JCvalue  \n",
       "0  228710.300049  \n",
       "1            0.0  "
      ]
     },
     "execution_count": 26,
     "metadata": {},
     "output_type": "execute_result"
    }
   ],
   "source": [
    "summary"
   ]
  },
  {
   "cell_type": "code",
   "execution_count": 27,
   "metadata": {},
   "outputs": [],
   "source": [
    "# Waterfall Chart Calculations\n",
    "lease = summary['BSvalue'][0] - summary['LLvalue'][0]\n",
    "exrso = table[table['EXRSO'].str.contains('exrso', na = False)]['EXvalue'].sum()\n",
    "erxsv = table[table['EXRSO'].str.contains('exrsv', case = False, na = False)]['EXvalue'].sum()\n",
    "UnclassMI = summary['LLvalue'][0] - exrso - erxsv - summary['URvalue'][0]\n",
    "ResCutoff = summary['URvalue'][0] - summary['RCvalue'][0] \n",
    "\n",
    "# Exploration Value Calc\n",
    "summary['MCvalue'] = np.where(summary['MCvalue'] == '', 0, summary['MCvalue'])\n",
    "summary['REGvalue'] = np.where(summary['REGvalue'] == '', 0, summary['REGvalue'])\n",
    "\n",
    "if summary['MCvalue'][1]> 0:\n",
    "    exploration = (summary['RCvalue'][0] - summary['MCvalue'][1]) - abs(summary['REGvalue'][1]) - summary['OPvalue'][1] - summary['ResClassvalue'][1] - summary['ELvalue'][0]\n",
    "else:\n",
    "    exploration = summary['RCvalue'][0]- abs(summary['REGvalue'][1]) - summary['OPvalue'][1] - summary['ResClassvalue'][1] - summary['ELvalue'][0]\n",
    "\n",
    "LOMP = summary['ELvalue'][0] + summary['SIvalue'][1] - summary['MOLvalue'][1] - adjustment_2\n",
    "OreReserve = LOMP - summary['APvalue'][1] - summary['SLvalue'][1] - summary['PLvalue'][1] - summary['JCvalue'][1] - adjustment_3 \n",
    "\n",
    "# Waterfall title:\n",
    "title = EBSBlockModel.split('_')[1].upper() +'_' + str(date.today().year)\n"
   ]
  },
  {
   "cell_type": "code",
   "execution_count": 28,
   "metadata": {},
   "outputs": [],
   "source": [
    "waterfall = []\n",
    "waterfall = [\n",
    "                summary['BSvalue'][0],          # Model Mineralized\n",
    "                -lease,                         \n",
    "                -exrso,\n",
    "                -erxsv,\n",
    "                -UnclassMI,                     # Unclassified (MI)\n",
    "                -ResCutoff,                     # Resource Cutoff (MI)\n",
    "                adjustment_1,                   # Adjustment 1\n",
    "                -(summary['RCvalue'][0] - adjustment_1),         # Mineral Resource (incl Reservce)\n",
    "                -abs(summary['MCvalue'][1]),    # Mining Cutoff\n",
    "                -abs(summary['REGvalue'][1]),   # SMU / Regularisation\n",
    "                -summary['OPvalue'][1],         # Optimisation loss\n",
    "                -summary['ResClassvalue'][1],   # Res Class\n",
    "                -exploration,\n",
    "                summary['SIvalue'][1],          # Potential VCOG\n",
    "                -summary['MOLvalue'][1],        # Mined Out Loss\n",
    "                adjustment_2,                   # Adjustment 2 \n",
    "                LOMP,                           # SI * (LOMP Inventory)\n",
    "                -summary['APvalue'][1],         # Approved Pit\n",
    "                -summary['SLvalue'][1],         # Schedule Loss\n",
    "                -summary['PLvalue'][1],         # Processing Loss\n",
    "                -summary['JCvalue'][1],         # Jorc Class\n",
    "                adjustment_3,                   # Adjustment 3\n",
    "                -OreReserve,                    # ore reserve\n",
    "]"
   ]
  },
  {
   "cell_type": "code",
   "execution_count": 29,
   "metadata": {},
   "outputs": [],
   "source": [
    "#Rounding  Formatting\n",
    "waterfall=[round((x/1000000)) for x in waterfall]"
   ]
  },
  {
   "cell_type": "code",
   "execution_count": 30,
   "metadata": {},
   "outputs": [
    {
     "data": {
      "application/vnd.plotly.v1+json": {
       "config": {
        "plotlyServerURL": "https://plot.ly"
       },
       "data": [
        {
         "base": 0,
         "connector": {
          "visible": false
         },
         "decreasing": {
          "marker": {
           "color": "Red"
          }
         },
         "increasing": {
          "marker": {
           "color": "Green"
          }
         },
         "measure": [
          "relative",
          "relative",
          "relative",
          "relative",
          "relative",
          "relative",
          "relative",
          "total",
          "relative",
          "relative",
          "relative",
          "relative",
          "relative",
          "relative",
          "relative",
          "relative",
          "total",
          "relative",
          "relative",
          "relative",
          "relative",
          "relative",
          "total"
         ],
         "orientation": "v",
         "text": [
          "186",
          "0",
          "57",
          "60",
          "0",
          "36",
          "0",
          "34",
          "0",
          "9",
          "18",
          "0",
          "6",
          "0",
          "0",
          "0",
          "0",
          "0",
          "0",
          "0",
          "0",
          "0",
          "0"
         ],
         "textposition": "outside",
         "totals": {
          "marker": {
           "color": "Blue"
          }
         },
         "type": "waterfall",
         "x": [
          "Model Mineralised",
          "Lease",
          "EXRSO",
          "EXRSV",
          "Unclassified (MI)",
          " Resource Cutoff (MI)",
          "Adjustment1",
          "Mineral Resource (Inc. REserve)",
          "Mining Cutoff",
          "SMU/ Regularisation",
          "Optimisation & Pit Design",
          "Res Class (inferred)",
          "Exploration Lease",
          "Potential VCOG",
          "Mined Out",
          "Adjustment2",
          "SI* (LOMP Inventory)",
          "Approved Pit",
          "Schedule Loss",
          "Processing Loss",
          "Jorc Class",
          "Adjustment3",
          "Ore Reserve"
         ],
         "y": [
          186,
          0,
          -57,
          -60,
          0,
          -36,
          0,
          -34,
          0,
          -9,
          -18,
          0,
          -6,
          0,
          0,
          0,
          0,
          0,
          0,
          0,
          0,
          0,
          0
         ]
        }
       ],
       "layout": {
        "autosize": false,
        "font": {
         "size": 25
        },
        "height": 1100,
        "template": {
         "data": {
          "bar": [
           {
            "error_x": {
             "color": "#2a3f5f"
            },
            "error_y": {
             "color": "#2a3f5f"
            },
            "marker": {
             "line": {
              "color": "#E5ECF6",
              "width": 0.5
             },
             "pattern": {
              "fillmode": "overlay",
              "size": 10,
              "solidity": 0.2
             }
            },
            "type": "bar"
           }
          ],
          "barpolar": [
           {
            "marker": {
             "line": {
              "color": "#E5ECF6",
              "width": 0.5
             },
             "pattern": {
              "fillmode": "overlay",
              "size": 10,
              "solidity": 0.2
             }
            },
            "type": "barpolar"
           }
          ],
          "carpet": [
           {
            "aaxis": {
             "endlinecolor": "#2a3f5f",
             "gridcolor": "white",
             "linecolor": "white",
             "minorgridcolor": "white",
             "startlinecolor": "#2a3f5f"
            },
            "baxis": {
             "endlinecolor": "#2a3f5f",
             "gridcolor": "white",
             "linecolor": "white",
             "minorgridcolor": "white",
             "startlinecolor": "#2a3f5f"
            },
            "type": "carpet"
           }
          ],
          "choropleth": [
           {
            "colorbar": {
             "outlinewidth": 0,
             "ticks": ""
            },
            "type": "choropleth"
           }
          ],
          "contour": [
           {
            "colorbar": {
             "outlinewidth": 0,
             "ticks": ""
            },
            "colorscale": [
             [
              0,
              "#0d0887"
             ],
             [
              0.1111111111111111,
              "#46039f"
             ],
             [
              0.2222222222222222,
              "#7201a8"
             ],
             [
              0.3333333333333333,
              "#9c179e"
             ],
             [
              0.4444444444444444,
              "#bd3786"
             ],
             [
              0.5555555555555556,
              "#d8576b"
             ],
             [
              0.6666666666666666,
              "#ed7953"
             ],
             [
              0.7777777777777778,
              "#fb9f3a"
             ],
             [
              0.8888888888888888,
              "#fdca26"
             ],
             [
              1,
              "#f0f921"
             ]
            ],
            "type": "contour"
           }
          ],
          "contourcarpet": [
           {
            "colorbar": {
             "outlinewidth": 0,
             "ticks": ""
            },
            "type": "contourcarpet"
           }
          ],
          "heatmap": [
           {
            "colorbar": {
             "outlinewidth": 0,
             "ticks": ""
            },
            "colorscale": [
             [
              0,
              "#0d0887"
             ],
             [
              0.1111111111111111,
              "#46039f"
             ],
             [
              0.2222222222222222,
              "#7201a8"
             ],
             [
              0.3333333333333333,
              "#9c179e"
             ],
             [
              0.4444444444444444,
              "#bd3786"
             ],
             [
              0.5555555555555556,
              "#d8576b"
             ],
             [
              0.6666666666666666,
              "#ed7953"
             ],
             [
              0.7777777777777778,
              "#fb9f3a"
             ],
             [
              0.8888888888888888,
              "#fdca26"
             ],
             [
              1,
              "#f0f921"
             ]
            ],
            "type": "heatmap"
           }
          ],
          "heatmapgl": [
           {
            "colorbar": {
             "outlinewidth": 0,
             "ticks": ""
            },
            "colorscale": [
             [
              0,
              "#0d0887"
             ],
             [
              0.1111111111111111,
              "#46039f"
             ],
             [
              0.2222222222222222,
              "#7201a8"
             ],
             [
              0.3333333333333333,
              "#9c179e"
             ],
             [
              0.4444444444444444,
              "#bd3786"
             ],
             [
              0.5555555555555556,
              "#d8576b"
             ],
             [
              0.6666666666666666,
              "#ed7953"
             ],
             [
              0.7777777777777778,
              "#fb9f3a"
             ],
             [
              0.8888888888888888,
              "#fdca26"
             ],
             [
              1,
              "#f0f921"
             ]
            ],
            "type": "heatmapgl"
           }
          ],
          "histogram": [
           {
            "marker": {
             "pattern": {
              "fillmode": "overlay",
              "size": 10,
              "solidity": 0.2
             }
            },
            "type": "histogram"
           }
          ],
          "histogram2d": [
           {
            "colorbar": {
             "outlinewidth": 0,
             "ticks": ""
            },
            "colorscale": [
             [
              0,
              "#0d0887"
             ],
             [
              0.1111111111111111,
              "#46039f"
             ],
             [
              0.2222222222222222,
              "#7201a8"
             ],
             [
              0.3333333333333333,
              "#9c179e"
             ],
             [
              0.4444444444444444,
              "#bd3786"
             ],
             [
              0.5555555555555556,
              "#d8576b"
             ],
             [
              0.6666666666666666,
              "#ed7953"
             ],
             [
              0.7777777777777778,
              "#fb9f3a"
             ],
             [
              0.8888888888888888,
              "#fdca26"
             ],
             [
              1,
              "#f0f921"
             ]
            ],
            "type": "histogram2d"
           }
          ],
          "histogram2dcontour": [
           {
            "colorbar": {
             "outlinewidth": 0,
             "ticks": ""
            },
            "colorscale": [
             [
              0,
              "#0d0887"
             ],
             [
              0.1111111111111111,
              "#46039f"
             ],
             [
              0.2222222222222222,
              "#7201a8"
             ],
             [
              0.3333333333333333,
              "#9c179e"
             ],
             [
              0.4444444444444444,
              "#bd3786"
             ],
             [
              0.5555555555555556,
              "#d8576b"
             ],
             [
              0.6666666666666666,
              "#ed7953"
             ],
             [
              0.7777777777777778,
              "#fb9f3a"
             ],
             [
              0.8888888888888888,
              "#fdca26"
             ],
             [
              1,
              "#f0f921"
             ]
            ],
            "type": "histogram2dcontour"
           }
          ],
          "mesh3d": [
           {
            "colorbar": {
             "outlinewidth": 0,
             "ticks": ""
            },
            "type": "mesh3d"
           }
          ],
          "parcoords": [
           {
            "line": {
             "colorbar": {
              "outlinewidth": 0,
              "ticks": ""
             }
            },
            "type": "parcoords"
           }
          ],
          "pie": [
           {
            "automargin": true,
            "type": "pie"
           }
          ],
          "scatter": [
           {
            "fillpattern": {
             "fillmode": "overlay",
             "size": 10,
             "solidity": 0.2
            },
            "type": "scatter"
           }
          ],
          "scatter3d": [
           {
            "line": {
             "colorbar": {
              "outlinewidth": 0,
              "ticks": ""
             }
            },
            "marker": {
             "colorbar": {
              "outlinewidth": 0,
              "ticks": ""
             }
            },
            "type": "scatter3d"
           }
          ],
          "scattercarpet": [
           {
            "marker": {
             "colorbar": {
              "outlinewidth": 0,
              "ticks": ""
             }
            },
            "type": "scattercarpet"
           }
          ],
          "scattergeo": [
           {
            "marker": {
             "colorbar": {
              "outlinewidth": 0,
              "ticks": ""
             }
            },
            "type": "scattergeo"
           }
          ],
          "scattergl": [
           {
            "marker": {
             "colorbar": {
              "outlinewidth": 0,
              "ticks": ""
             }
            },
            "type": "scattergl"
           }
          ],
          "scattermapbox": [
           {
            "marker": {
             "colorbar": {
              "outlinewidth": 0,
              "ticks": ""
             }
            },
            "type": "scattermapbox"
           }
          ],
          "scatterpolar": [
           {
            "marker": {
             "colorbar": {
              "outlinewidth": 0,
              "ticks": ""
             }
            },
            "type": "scatterpolar"
           }
          ],
          "scatterpolargl": [
           {
            "marker": {
             "colorbar": {
              "outlinewidth": 0,
              "ticks": ""
             }
            },
            "type": "scatterpolargl"
           }
          ],
          "scatterternary": [
           {
            "marker": {
             "colorbar": {
              "outlinewidth": 0,
              "ticks": ""
             }
            },
            "type": "scatterternary"
           }
          ],
          "surface": [
           {
            "colorbar": {
             "outlinewidth": 0,
             "ticks": ""
            },
            "colorscale": [
             [
              0,
              "#0d0887"
             ],
             [
              0.1111111111111111,
              "#46039f"
             ],
             [
              0.2222222222222222,
              "#7201a8"
             ],
             [
              0.3333333333333333,
              "#9c179e"
             ],
             [
              0.4444444444444444,
              "#bd3786"
             ],
             [
              0.5555555555555556,
              "#d8576b"
             ],
             [
              0.6666666666666666,
              "#ed7953"
             ],
             [
              0.7777777777777778,
              "#fb9f3a"
             ],
             [
              0.8888888888888888,
              "#fdca26"
             ],
             [
              1,
              "#f0f921"
             ]
            ],
            "type": "surface"
           }
          ],
          "table": [
           {
            "cells": {
             "fill": {
              "color": "#EBF0F8"
             },
             "line": {
              "color": "white"
             }
            },
            "header": {
             "fill": {
              "color": "#C8D4E3"
             },
             "line": {
              "color": "white"
             }
            },
            "type": "table"
           }
          ]
         },
         "layout": {
          "annotationdefaults": {
           "arrowcolor": "#2a3f5f",
           "arrowhead": 0,
           "arrowwidth": 1
          },
          "autotypenumbers": "strict",
          "coloraxis": {
           "colorbar": {
            "outlinewidth": 0,
            "ticks": ""
           }
          },
          "colorscale": {
           "diverging": [
            [
             0,
             "#8e0152"
            ],
            [
             0.1,
             "#c51b7d"
            ],
            [
             0.2,
             "#de77ae"
            ],
            [
             0.3,
             "#f1b6da"
            ],
            [
             0.4,
             "#fde0ef"
            ],
            [
             0.5,
             "#f7f7f7"
            ],
            [
             0.6,
             "#e6f5d0"
            ],
            [
             0.7,
             "#b8e186"
            ],
            [
             0.8,
             "#7fbc41"
            ],
            [
             0.9,
             "#4d9221"
            ],
            [
             1,
             "#276419"
            ]
           ],
           "sequential": [
            [
             0,
             "#0d0887"
            ],
            [
             0.1111111111111111,
             "#46039f"
            ],
            [
             0.2222222222222222,
             "#7201a8"
            ],
            [
             0.3333333333333333,
             "#9c179e"
            ],
            [
             0.4444444444444444,
             "#bd3786"
            ],
            [
             0.5555555555555556,
             "#d8576b"
            ],
            [
             0.6666666666666666,
             "#ed7953"
            ],
            [
             0.7777777777777778,
             "#fb9f3a"
            ],
            [
             0.8888888888888888,
             "#fdca26"
            ],
            [
             1,
             "#f0f921"
            ]
           ],
           "sequentialminus": [
            [
             0,
             "#0d0887"
            ],
            [
             0.1111111111111111,
             "#46039f"
            ],
            [
             0.2222222222222222,
             "#7201a8"
            ],
            [
             0.3333333333333333,
             "#9c179e"
            ],
            [
             0.4444444444444444,
             "#bd3786"
            ],
            [
             0.5555555555555556,
             "#d8576b"
            ],
            [
             0.6666666666666666,
             "#ed7953"
            ],
            [
             0.7777777777777778,
             "#fb9f3a"
            ],
            [
             0.8888888888888888,
             "#fdca26"
            ],
            [
             1,
             "#f0f921"
            ]
           ]
          },
          "colorway": [
           "#636efa",
           "#EF553B",
           "#00cc96",
           "#ab63fa",
           "#FFA15A",
           "#19d3f3",
           "#FF6692",
           "#B6E880",
           "#FF97FF",
           "#FECB52"
          ],
          "font": {
           "color": "#2a3f5f"
          },
          "geo": {
           "bgcolor": "white",
           "lakecolor": "white",
           "landcolor": "#E5ECF6",
           "showlakes": true,
           "showland": true,
           "subunitcolor": "white"
          },
          "hoverlabel": {
           "align": "left"
          },
          "hovermode": "closest",
          "mapbox": {
           "style": "light"
          },
          "paper_bgcolor": "white",
          "plot_bgcolor": "#E5ECF6",
          "polar": {
           "angularaxis": {
            "gridcolor": "white",
            "linecolor": "white",
            "ticks": ""
           },
           "bgcolor": "#E5ECF6",
           "radialaxis": {
            "gridcolor": "white",
            "linecolor": "white",
            "ticks": ""
           }
          },
          "scene": {
           "xaxis": {
            "backgroundcolor": "#E5ECF6",
            "gridcolor": "white",
            "gridwidth": 2,
            "linecolor": "white",
            "showbackground": true,
            "ticks": "",
            "zerolinecolor": "white"
           },
           "yaxis": {
            "backgroundcolor": "#E5ECF6",
            "gridcolor": "white",
            "gridwidth": 2,
            "linecolor": "white",
            "showbackground": true,
            "ticks": "",
            "zerolinecolor": "white"
           },
           "zaxis": {
            "backgroundcolor": "#E5ECF6",
            "gridcolor": "white",
            "gridwidth": 2,
            "linecolor": "white",
            "showbackground": true,
            "ticks": "",
            "zerolinecolor": "white"
           }
          },
          "shapedefaults": {
           "line": {
            "color": "#2a3f5f"
           }
          },
          "ternary": {
           "aaxis": {
            "gridcolor": "white",
            "linecolor": "white",
            "ticks": ""
           },
           "baxis": {
            "gridcolor": "white",
            "linecolor": "white",
            "ticks": ""
           },
           "bgcolor": "#E5ECF6",
           "caxis": {
            "gridcolor": "white",
            "linecolor": "white",
            "ticks": ""
           }
          },
          "title": {
           "x": 0.05
          },
          "xaxis": {
           "automargin": true,
           "gridcolor": "white",
           "linecolor": "white",
           "ticks": "",
           "title": {
            "standoff": 15
           },
           "zerolinecolor": "white",
           "zerolinewidth": 2
          },
          "yaxis": {
           "automargin": true,
           "gridcolor": "white",
           "linecolor": "white",
           "ticks": "",
           "title": {
            "standoff": 15
           },
           "zerolinecolor": "white",
           "zerolinewidth": 2
          }
         }
        },
        "title": {
         "text": "DEPA_2022 Waterfall Chart"
        },
        "waterfallgap": 0.1,
        "width": 2250,
        "xaxis": {
         "tickangle": -90
        }
       }
      }
     },
     "metadata": {},
     "output_type": "display_data"
    }
   ],
   "source": [
    "fig = go.Figure(go.Waterfall(\n",
    "    orientation = \"v\",\n",
    "    measure = [\"relative\", \"relative\", \"relative\",\"relative\",\"relative\",\"relative\",\"relative\", \"total\",\"relative\",\"relative\",\"relative\",\"relative\",\"relative\",\"relative\",\"relative\",\"relative\", \"total\",\"relative\",\"relative\",\"relative\",\"relative\",\"relative\", \"total\" ],\n",
    "\n",
    "    x = [\"Model Mineralised\", \"Lease\", \"EXRSO\", \"EXRSV\", \"Unclassified (MI)\", \" Resource Cutoff (MI)\", \"Adjustment1\", \"Mineral Resource (Inc. REserve)\", \"Mining Cutoff\", \"SMU/ Regularisation\", \"Optimisation & Pit Design\", \"Res Class (inferred)\", \"Exploration Lease\", \"Potential VCOG\", \"Mined Out\", \"Adjustment2\", \"SI* (LOMP Inventory)\", \"Approved Pit\", \"Schedule Loss\", \"Processing Loss\", \"Jorc Class\", \"Adjustment3\", \"Ore Reserve\"],\n",
    "\n",
    "    textposition = \"outside\",\n",
    "    text = [abs(x) for x in waterfall],\n",
    "    y =  waterfall,\n",
    "    connector = {\"visible\": False},\n",
    "    base = 0,\n",
    "\n",
    "    decreasing = {\"marker\":{\"color\":\"Red\"}},\n",
    "    increasing = {\"marker\":{\"color\":\"Green\"}},\n",
    "    totals = {\"marker\":{\"color\":\"Blue\"}}\n",
    "))\n",
    "\n",
    "fig.update_layout(title = f'{title} Waterfall Chart',  waterfallgap  = 0.1,\n",
    "        autosize=False,\n",
    "        width=2250,\n",
    "        height=1100,\n",
    "        font=dict(\n",
    "            size=25,  # Set the font size here)\n",
    "        ))\n",
    "\n",
    "fig.update_xaxes(tickangle=-90)\n",
    "\n",
    "fig.show()"
   ]
  },
  {
   "cell_type": "markdown",
   "metadata": {},
   "source": [
    "Saving Waterfall Chart"
   ]
  },
  {
   "cell_type": "code",
   "execution_count": 31,
   "metadata": {},
   "outputs": [],
   "source": [
    "#Save file\n",
    "if not os.path.exists(\"..\\Waterfall_Plots\"):\n",
    "    os.mkdir(\"..\\Waterfall_Plots\")\n",
    "\n",
    "fig.write_image(f\"..\\Waterfall_Plots/{title}_Waterfall_plot.png\")"
   ]
  },
  {
   "cell_type": "markdown",
   "metadata": {},
   "source": [
    "Save CSV File"
   ]
  },
  {
   "cell_type": "code",
   "execution_count": 32,
   "metadata": {},
   "outputs": [],
   "source": [
    "#Save file\n",
    "if not os.path.exists(\"..\\csv_files\"):\n",
    "    os.mkdir(\"..\\csv_files\")\n",
    "\n",
    "summary.to_csv(f\"..\\csv_files/{title}_Remaining&Loss.csv\")\n",
    "table.fillna(\"\").to_csv(f\"..\\csv_files/{title}_RawValues.csv\")"
   ]
  }
 ],
 "metadata": {
  "kernelspec": {
   "display_name": "Python 3.10.5 64-bit",
   "language": "python",
   "name": "python3"
  },
  "language_info": {
   "codemirror_mode": {
    "name": "ipython",
    "version": 3
   },
   "file_extension": ".py",
   "mimetype": "text/x-python",
   "name": "python",
   "nbconvert_exporter": "python",
   "pygments_lexer": "ipython3",
   "version": "3.10.5"
  },
  "orig_nbformat": 4,
  "vscode": {
   "interpreter": {
    "hash": "408d564503a239cca10063fbbbcecd75af2876fcb47cfc8fe2175441ae9af243"
   }
  }
 },
 "nbformat": 4,
 "nbformat_minor": 2
}
